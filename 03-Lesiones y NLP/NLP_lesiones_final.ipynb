{
 "cells": [
  {
   "cell_type": "markdown",
   "metadata": {
    "id": "f81jZZen8mjJ"
   },
   "source": [
    "### NLP DE ARTICULOS DE LESIONES DE FUTBOLISTAS"
   ]
  },
  {
   "cell_type": "code",
   "execution_count": 180,
   "metadata": {
    "executionInfo": {
     "elapsed": 11,
     "status": "ok",
     "timestamp": 1739972662650,
     "user": {
      "displayName": "Dani DanB",
      "userId": "00378567025082066020"
     },
     "user_tz": -60
    },
    "id": "mbRLORgp0S_c"
   },
   "outputs": [],
   "source": [
    "# !pip install requests beautifulsoup4 nltk spacy\n",
    "# !pip install requests beautifulsoup4 spacy\n",
    "# !python -m spacy download es_core_news_sm\n"
   ]
  },
  {
   "cell_type": "code",
   "execution_count": 181,
   "metadata": {
    "executionInfo": {
     "elapsed": 3,
     "status": "ok",
     "timestamp": 1739972662655,
     "user": {
      "displayName": "Dani DanB",
      "userId": "00378567025082066020"
     },
     "user_tz": -60
    },
    "id": "5XoR4jNx0r0f"
   },
   "outputs": [],
   "source": [
    "import requests\n",
    "import numpy as np\n",
    "import pandas as pd\n",
    "import matplotlib.pyplot as plt\n",
    "from bs4 import BeautifulSoup\n",
    "import spacy\n",
    "import nltk\n",
    "from nltk.tokenize import word_tokenize, sent_tokenize\n",
    "from nltk.corpus import stopwords\n",
    "from sklearn.svm import SVC\n",
    "from sklearn.model_selection import cross_val_score\n",
    "from sklearn.feature_extraction.text import TfidfVectorizer\n",
    "from sklearn.linear_model import LogisticRegression\n",
    "from sklearn.model_selection import train_test_split\n",
    "from sklearn.metrics import classification_report\n",
    "from imblearn.over_sampling import SMOTE\n",
    "from sklearn.model_selection import GridSearchCV\n",
    "from sklearn.model_selection import learning_curve\n",
    "import seaborn as sns\n",
    "import string"
   ]
  },
  {
   "cell_type": "markdown",
   "metadata": {
    "id": "Je7TVHtQ9MZ2"
   },
   "source": [
    "Cargamos el modelo de procesamiento de lenguaje natural \"es_core_news_sm\" de spacy para entrenar con los articulos y noticias de lesiones en español, de modo que el modelo aprenda a diferenciar los artículos que hablan de ellas y los que no"
   ]
  },
  {
   "cell_type": "code",
   "execution_count": 182,
   "metadata": {
    "executionInfo": {
     "elapsed": 15543,
     "status": "ok",
     "timestamp": 1739972678197,
     "user": {
      "displayName": "Dani DanB",
      "userId": "00378567025082066020"
     },
     "user_tz": -60
    },
    "id": "nXOpELVdBhd2"
   },
   "outputs": [],
   "source": [
    "nlp = spacy.load(\"es_core_news_sm\")\n",
    "\n",
    "urls_lesiones = [\n",
    "    \"https://www.newtral.es/lesiones-calendario-datos-preocupaciones-liga-masculina-futbol/20241117/\",\n",
    "    \"https://www.heraldo.es/noticias/deportes/futbol/real-zaragoza/2025/02/11/la-plaga-de-lesiones-en-el-real-zaragoza-1798928.html\",\n",
    "    \"https://www.relevo.com/futbol/liga-primera/lesion-rodrygo-tiempo-baja-20241023121800-nt.html\",\n",
    "    \"https://www.france24.com/es/programas/lo-m%C3%A1s-destacado-de-2024/20250102-especial-deportes-futbol-lesiones-partidos\",\n",
    "    \"https://www.sport.es/es/noticias/real-madrid/alarma-city-lesiones-clave-primera-114210232\",\n",
    "    \"https://www.planetarealmadrid.com/curiosidades/cuantas-lesiones-ha-sufrido-real-madrid-esta-temporada-cifra-es-impactante_288826_102.html\",\n",
    "    \"https://www.relevo.com/futbol/liga-primera/plaga-lesiones-preocupacion-sevilla-20250211112822-nt.html\",\n",
    "    \"https://bolavip.com/laliga/real-madrid-encuentra-culpable-18-jugadores-se-han-lesionado-en-20-partidos\",\n",
    "    \"https://www.jornadaperfecta.com/blog/lesionados-laliga-jornada-19-24-25/\",\n",
    "    \"https://www.relevo.com/fantasy/sancionados-lesionados-jornada-laliga-sports-20240108200602-nt.html\",\n",
    "    \"https://www.90min.com/es/chivas-de-guadalajara-lesionados-y-suspendidos-vs-leon-en-la-jornada-4-del-clausura-2025\",\n",
    "    \"https://as.com/futbol/primera/fernando-pacheco-pasara-por-el-quirofano-n/\",\n",
    "    \"https://as.com/futbol/primera/alaba-ni-copa-ni-derbi-ni-city-n/\",\n",
    "    \"https://as.com/futbol/primera/la-lesion-de-galan-queda-en-un-esguince-n/\",\n",
    "    \"https://as.com/futbol/champions/camavinga-tres-semanas-fuera-n/\"\n",
    "]\n",
    "\n",
    "urls_no_lesiones = [\n",
    "    \"https://www.mundodeportivo.com/futbol/fc-barcelona/20250212/1002406371/dato-ilusionara-cules-emparejamiento-copa-atletico.html\",\n",
    "    \"https://www.realbetisbalompie.es/noticias/actualidad/la-asignacion-de-entradas-para-los-partidos-a-domicilio-sera-por-sorteo-31048\",\n",
    "    \"https://www.marca.com/futbol/real-madrid/2025/02/13/tema-vinicius-ritmo-marca-real-madrid.html\",\n",
    "    \"https://www.fichajes.net/noticias/increible-fichaje-sergio-ramos-negocia-rayados-20250212.html\",\n",
    "    \"https://www.prensalibre.com/deportes/futbol-internacional/champions-league-partidos-y-resultados-de-los-playoffs-de-ida-y-como-se-mantienen-las-llaves-a-octavos-breaking/\",\n",
    "    \"https://www.marca.com/futbol/champions-league/2025/02/12/autores-pancarta-polemica-city-real-madrid-desvelan-aludia-vinicius.html\",\n",
    "    \"https://as.com/futbol/primera/alineacion-posible-del-valencia-ante-el-leganes-en-laliga-ea-sports-n/\",\n",
    "    \"https://www.laliga.com/noticias/laliga-desactiva-antes-del-derbi-de-madrid-la-plataforma-de-pirateria-de-vivo-duckvision\",\n",
    "    \"https://www.infobae.com/america/agencias/2025/02/13/las-ligas-de-espana-y-japon-renuevan-su-colaboracion-para-fortalecer-el-futbol-femenino/\",\n",
    "    \"https://www.lasexta.com/noticias/deportes/futbol/fuera-juego-flick-fallo-belgrado-asi-fue-gol-estrella-roja-barca_20241106672be65439a16c0001a40db7.html\",\n",
    "    \"https://www.lasexta.com/noticias/deportes/futbol/habra-minuto-silencio-partidos-champions-europa-league-conference-victimas-dana_2024110467290d242914190001eb0802.html\",\n",
    "    \"https://www.lasexta.com/noticias/deportes/futbol/sorteo-champions-league-nuevo-formato-fase-grupos-bolas-ordenador_2024082866cf0eb2797ae1000178349e.html\"\n",
    "]\n",
    "\n",
    "def obtener_texto(url):\n",
    "    response = requests.get(url)\n",
    "    if response.status_code == 200:\n",
    "        soup = BeautifulSoup(response.text, 'html.parser')\n",
    "        paragraphs = soup.find_all('p')\n",
    "        text = \" \".join([p.get_text() for p in paragraphs])\n",
    "        return text\n",
    "    else:\n",
    "        return \"\"\n",
    "\n",
    "articulos_lesiones = [obtener_texto(url) for url in urls_lesiones]\n",
    "\n",
    "articulos_no_lesiones = [obtener_texto(url) for url in urls_no_lesiones]\n",
    "\n",
    "etiquetas_lesiones = [1] * len(articulos_lesiones)\n",
    "etiquetas_no_lesiones = [0] * len(articulos_no_lesiones)\n",
    "\n",
    "articulos = articulos_lesiones + articulos_no_lesiones\n",
    "etiquetas = etiquetas_lesiones + etiquetas_no_lesiones\n"
   ]
  },
  {
   "cell_type": "markdown",
   "metadata": {
    "id": "FM6K0VTA9u1H"
   },
   "source": [
    "Descargamos las stopwords en español de nltk para aplicarlo y lematizamos para que aprenda a escoger las palabras con raíces en común y las que no tienen que ver"
   ]
  },
  {
   "cell_type": "code",
   "execution_count": 183,
   "metadata": {
    "colab": {
     "base_uri": "https://localhost:8080/"
    },
    "executionInfo": {
     "elapsed": 19,
     "status": "ok",
     "timestamp": 1739972678199,
     "user": {
      "displayName": "Dani DanB",
      "userId": "00378567025082066020"
     },
     "user_tz": -60
    },
    "id": "EGxBeYx69nJ3",
    "outputId": "5c93bca9-5aba-48ae-fa47-7a63a2829fce"
   },
   "outputs": [
    {
     "name": "stderr",
     "output_type": "stream",
     "text": [
      "[nltk_data] Downloading package stopwords to /root/nltk_data...\n",
      "[nltk_data]   Package stopwords is already up-to-date!\n"
     ]
    }
   ],
   "source": [
    "nltk.download('stopwords')\n",
    "stop_words = set(stopwords.words('spanish'))"
   ]
  },
  {
   "cell_type": "code",
   "execution_count": 184,
   "metadata": {
    "executionInfo": {
     "elapsed": 2125,
     "status": "ok",
     "timestamp": 1739972680321,
     "user": {
      "displayName": "Dani DanB",
      "userId": "00378567025082066020"
     },
     "user_tz": -60
    },
    "id": "P_BIhzON93en"
   },
   "outputs": [],
   "source": [
    "def lematizar_y_filtrar(texto):\n",
    "    doc = nlp(texto)\n",
    "    return \" \".join([token.lemma_ for token in doc if token.is_alpha and token.text not in stop_words])\n",
    "\n",
    "articulos_procesados = [lematizar_y_filtrar(articulo) for articulo in articulos]"
   ]
  },
  {
   "cell_type": "markdown",
   "metadata": {
    "id": "XPrS0zvH-N2A"
   },
   "source": [
    "Convertimos el texto a una matriz TF-IDF para asignarle un peso a cada palabra. Es decir, tener un parámetro de importancia de las palabras"
   ]
  },
  {
   "cell_type": "code",
   "execution_count": 185,
   "metadata": {
    "executionInfo": {
     "elapsed": 34,
     "status": "ok",
     "timestamp": 1739972680360,
     "user": {
      "displayName": "Dani DanB",
      "userId": "00378567025082066020"
     },
     "user_tz": -60
    },
    "id": "AdBlWBpg-G-Y"
   },
   "outputs": [],
   "source": [
    "vectorizer = TfidfVectorizer()\n",
    "X_tfidf = vectorizer.fit_transform(articulos_procesados)"
   ]
  },
  {
   "cell_type": "code",
   "execution_count": 186,
   "metadata": {
    "colab": {
     "base_uri": "https://localhost:8080/"
    },
    "executionInfo": {
     "elapsed": 36,
     "status": "ok",
     "timestamp": 1739972680393,
     "user": {
      "displayName": "Dani DanB",
      "userId": "00378567025082066020"
     },
     "user_tz": -60
    },
    "id": "-WuXPL6_-ply",
    "outputId": "e3914bce-5b6f-4af9-c1c9-b43e5aaed95c"
   },
   "outputs": [
    {
     "name": "stdout",
     "output_type": "stream",
     "text": [
      "Clases presentes en las etiquetas: {0, 1}\n"
     ]
    }
   ],
   "source": [
    "print(\"Clases presentes en las etiquetas:\", set(etiquetas))"
   ]
  },
  {
   "cell_type": "markdown",
   "metadata": {
    "id": "7hrz9RyU-uAZ"
   },
   "source": [
    "Desarrollamos el modelo, para el que hemos usado una regresión logística y smote para equilibrar las clases (1 y 0, lesiones y futbol en general)"
   ]
  },
  {
   "cell_type": "code",
   "execution_count": 187,
   "metadata": {
    "colab": {
     "base_uri": "https://localhost:8080/"
    },
    "executionInfo": {
     "elapsed": 139,
     "status": "ok",
     "timestamp": 1739972680537,
     "user": {
      "displayName": "Dani DanB",
      "userId": "00378567025082066020"
     },
     "user_tz": -60
    },
    "id": "VlcAZq2F-SVH",
    "outputId": "914d2cd1-0a9a-4d63-b300-a0fc9e54a42b"
   },
   "outputs": [
    {
     "name": "stdout",
     "output_type": "stream",
     "text": [
      "Mejor parámetro C: {'C': 10}\n",
      "Informe de clasificación:\n",
      "              precision    recall  f1-score   support\n",
      "\n",
      "           0       0.00      0.00      0.00         1\n",
      "           1       0.83      1.00      0.91         5\n",
      "\n",
      "    accuracy                           0.83         6\n",
      "   macro avg       0.42      0.50      0.45         6\n",
      "weighted avg       0.69      0.83      0.76         6\n",
      "\n"
     ]
    },
    {
     "name": "stderr",
     "output_type": "stream",
     "text": [
      "/usr/local/lib/python3.11/dist-packages/sklearn/metrics/_classification.py:1565: UndefinedMetricWarning: Precision is ill-defined and being set to 0.0 in labels with no predicted samples. Use `zero_division` parameter to control this behavior.\n",
      "  _warn_prf(average, modifier, f\"{metric.capitalize()} is\", len(result))\n",
      "/usr/local/lib/python3.11/dist-packages/sklearn/metrics/_classification.py:1565: UndefinedMetricWarning: Precision is ill-defined and being set to 0.0 in labels with no predicted samples. Use `zero_division` parameter to control this behavior.\n",
      "  _warn_prf(average, modifier, f\"{metric.capitalize()} is\", len(result))\n",
      "/usr/local/lib/python3.11/dist-packages/sklearn/metrics/_classification.py:1565: UndefinedMetricWarning: Precision is ill-defined and being set to 0.0 in labels with no predicted samples. Use `zero_division` parameter to control this behavior.\n",
      "  _warn_prf(average, modifier, f\"{metric.capitalize()} is\", len(result))\n"
     ]
    }
   ],
   "source": [
    "X_train, X_test, y_train, y_test = train_test_split(X_tfidf, etiquetas, test_size=0.2, random_state=42)\n",
    "\n",
    "smote = SMOTE(random_state=42)\n",
    "X_train_smote, y_train_smote = smote.fit_resample(X_train, y_train)\n",
    "\n",
    "model = LogisticRegression(max_iter=200)\n",
    "\n",
    "param_grid = {'C': [0.01, 0.1, 1, 10, 100]}\n",
    "grid_search = GridSearchCV(model, param_grid, cv=5)\n",
    "grid_search.fit(X_train_smote, y_train_smote)\n",
    "\n",
    "print(\"Mejor parámetro C:\", grid_search.best_params_)\n",
    "\n",
    "best_model = grid_search.best_estimator_\n",
    "\n",
    "y_pred = best_model.predict(X_test)\n",
    "\n",
    "print(\"Informe de clasificación:\")\n",
    "print(classification_report(y_test, y_pred))"
   ]
  },
  {
   "cell_type": "markdown",
   "metadata": {
    "id": "lZ5eB7U6_Y35"
   },
   "source": [
    "Tenemos que añadir más artículos para entrenarlo bien, pero también vamos a probar SVC como modelo, que parece que coge más artículos totales en 'support'"
   ]
  },
  {
   "cell_type": "code",
   "execution_count": 188,
   "metadata": {
    "colab": {
     "base_uri": "https://localhost:8080/"
    },
    "executionInfo": {
     "elapsed": 148,
     "status": "ok",
     "timestamp": 1739972680689,
     "user": {
      "displayName": "Dani DanB",
      "userId": "00378567025082066020"
     },
     "user_tz": -60
    },
    "id": "sPToFpEiWSE9",
    "outputId": "66b4fcae-9a06-46e4-cb19-eaecf269f06f"
   },
   "outputs": [
    {
     "name": "stdout",
     "output_type": "stream",
     "text": [
      "Mejor parámetro C: {'C': 1}\n",
      "Informe de clasificación en el conjunto de prueba:\n",
      "              precision    recall  f1-score   support\n",
      "\n",
      "           0       0.67      0.67      0.67         3\n",
      "           1       0.83      0.83      0.83         6\n",
      "\n",
      "    accuracy                           0.78         9\n",
      "   macro avg       0.75      0.75      0.75         9\n",
      "weighted avg       0.78      0.78      0.78         9\n",
      "\n"
     ]
    }
   ],
   "source": [
    "X_train, X_test, y_train, y_test = train_test_split(X_tfidf, etiquetas, test_size=0.3, random_state=42)\n",
    "\n",
    "smote = SMOTE(random_state=42)\n",
    "X_train_res, y_train_res = smote.fit_resample(X_train, y_train)\n",
    "\n",
    "model = SVC(class_weight='balanced')\n",
    "\n",
    "param_grid = {'C': [1, 5, 10, 50, 100]}\n",
    "grid_search = GridSearchCV(model, param_grid, cv=5, scoring='accuracy')\n",
    "grid_search.fit(X_train_res, y_train_res)\n",
    "\n",
    "print(f\"Mejor parámetro C: {grid_search.best_params_}\")\n",
    "\n",
    "y_pred = grid_search.best_estimator_.predict(X_test)\n",
    "print(\"Informe de clasificación en el conjunto de prueba:\")\n",
    "print(classification_report(y_test, y_pred))\n"
   ]
  },
  {
   "cell_type": "code",
   "execution_count": 189,
   "metadata": {
    "colab": {
     "base_uri": "https://localhost:8080/"
    },
    "executionInfo": {
     "elapsed": 14,
     "status": "ok",
     "timestamp": 1739972680691,
     "user": {
      "displayName": "Dani DanB",
      "userId": "00378567025082066020"
     },
     "user_tz": -60
    },
    "id": "g9tFCH0JBYKR",
    "outputId": "db89c529-de52-41ba-f751-cc3943dd5176"
   },
   "outputs": [
    {
     "name": "stdout",
     "output_type": "stream",
     "text": [
      "Cross-validation scores: [0.5 0.5 0.8 1.  1. ]\n",
      "Accuracy promedio en validación cruzada: 0.76\n"
     ]
    }
   ],
   "source": [
    "cv_scores = cross_val_score(grid_search.best_estimator_, X_tfidf, etiquetas, cv=5, scoring='accuracy')\n",
    "print(f\"Cross-validation scores: {cv_scores}\")\n",
    "print(f\"Accuracy promedio en validación cruzada: {np.mean(cv_scores)}\")"
   ]
  },
  {
   "cell_type": "markdown",
   "metadata": {
    "id": "sk2TZsUjeiuM"
   },
   "source": [
    "Añadimos más artículos que es lo que realmente está haciendo que nuestro modelo no aprenda tanto y bien\n"
   ]
  },
  {
   "cell_type": "code",
   "execution_count": 190,
   "metadata": {
    "executionInfo": {
     "elapsed": 18026,
     "status": "ok",
     "timestamp": 1739972698712,
     "user": {
      "displayName": "Dani DanB",
      "userId": "00378567025082066020"
     },
     "user_tz": -60
    },
    "id": "Ce0Edv4la9V8"
   },
   "outputs": [],
   "source": [
    "nlp = spacy.load(\"es_core_news_sm\")\n",
    "\n",
    "urls_lesiones = [\n",
    "    \"https://www.newtral.es/lesiones-calendario-datos-preocupaciones-liga-masculina-futbol/20241117/\",\n",
    "    \"https://www.heraldo.es/noticias/deportes/futbol/real-zaragoza/2025/02/11/la-plaga-de-lesiones-en-el-real-zaragoza-1798928.html\",\n",
    "    \"https://www.relevo.com/futbol/liga-primera/lesion-rodrygo-tiempo-baja-20241023121800-nt.html\",\n",
    "    \"https://www.sport.es/es/noticias/real-madrid/alarma-city-lesiones-clave-primera-114210232\",\n",
    "    \"https://www.planetarealmadrid.com/curiosidades/cuantas-lesiones-ha-sufrido-real-madrid-esta-temporada-cifra-es-impactante_288826_102.html\",\n",
    "    \"https://www.relevo.com/futbol/liga-primera/plaga-lesiones-preocupacion-sevilla-20250211112822-nt.html\",\n",
    "    \"https://bolavip.com/laliga/real-madrid-encuentra-culpable-18-jugadores-se-han-lesionado-en-20-partidos\",\n",
    "    \"https://www.jornadaperfecta.com/blog/lesionados-laliga-jornada-19-24-25/\",\n",
    "    \"https://www.relevo.com/fantasy/sancionados-lesionados-jornada-laliga-sports-20240108200602-nt.html\",\n",
    "    \"https://www.90min.com/es/chivas-de-guadalajara-lesionados-y-suspendidos-vs-leon-en-la-jornada-4-del-clausura-2025\",\n",
    "    \"https://as.com/futbol/primera/fernando-pacheco-pasara-por-el-quirofano-n/\",\n",
    "    \"https://as.com/futbol/primera/alaba-ni-copa-ni-derbi-ni-city-n/\",\n",
    "    \"https://as.com/futbol/primera/la-lesion-de-galan-queda-en-un-esguince-n/\",\n",
    "    \"https://as.com/futbol/champions/camavinga-tres-semanas-fuera-n/\",\n",
    "    \"https://www.mundodeportivo.com/futbol/premier-league/20250204/1002401096/calvario-tottenham-cesa-grave-lesion.html\",\n",
    "    \"https://unanimodeportes.com/deportes/futbol/lesiones-jugadores-retiro/\",\n",
    "    \"https://www.vozpopuli.com/deportes/lesiones-futbol-plantillas.html\",\n",
    "    \"https://www.rtve.es/deportes/20241014/tres-meses-despues-luis-fuente-solo-puede-contar-con-cuatro-titulares-final-eurocopa/16286605.shtml\",\n",
    "    \"https://as.com/futbol/segunda/iborra-de-lesion-en-lesion-n/\",\n",
    "    \"https://as.com/futbol/internacional/umtiti-un-ano-sin-jugar-n/\",\n",
    "    \"https://as.com/futbol/segunda/mourad-rashani-y-oscar-plano-bajas-contra-el-levante-n/\",\n",
    "    \"https://www.marca.com/futbol/celta/2025/02/12/hugo-alvarez-estara-tres-semanas-baja.html\",\n",
    "    \"https://www.marca.com/futbol/betis/2024/11/21/problemas-centro-campo-beris-fornals-seria-duda-valencia.html\",\n",
    "    \"https://www.marca.com/futbol/alaves/2024/10/02/66fd3fcb22601d323d8b456f.html\",\n",
    "    \"https://www.marca.com/bienestar/salud/2024/03/19/65f9d398e2704e470d8b457c.html\"\n",
    "]\n",
    "\n",
    "urls_no_lesiones = [\n",
    "    \"https://www.mundodeportivo.com/futbol/fc-barcelona/20250212/1002406371/dato-ilusionara-cules-emparejamiento-copa-atletico.html\",\n",
    "    \"https://www.realbetisbalompie.es/noticias/actualidad/la-asignacion-de-entradas-para-los-partidos-a-domicilio-sera-por-sorteo-31048\",\n",
    "    \"https://www.marca.com/futbol/real-madrid/2025/02/13/tema-vinicius-ritmo-marca-real-madrid.html\",\n",
    "    \"https://www.fichajes.net/noticias/increible-fichaje-sergio-ramos-negocia-rayados-20250212.html\",\n",
    "    \"https://www.prensalibre.com/deportes/futbol-internacional/champions-league-partidos-y-resultados-de-los-playoffs-de-ida-y-como-se-mantienen-las-llaves-a-octavos-breaking/\",\n",
    "    \"https://www.marca.com/futbol/champions-league/2025/02/12/autores-pancarta-polemica-city-real-madrid-desvelan-aludia-vinicius.html\",\n",
    "    \"https://as.com/futbol/primera/alineacion-posible-del-valencia-ante-el-leganes-en-laliga-ea-sports-n/\",\n",
    "    \"https://www.laliga.com/noticias/laliga-desactiva-antes-del-derbi-de-madrid-la-plataforma-de-pirateria-de-vivo-duckvision\",\n",
    "    \"https://www.infobae.com/america/agencias/2025/02/13/las-ligas-de-espana-y-japon-renuevan-su-colaboracion-para-fortalecer-el-futbol-femenino/\",\n",
    "    \"https://www.lasexta.com/noticias/deportes/futbol/fuera-juego-flick-fallo-belgrado-asi-fue-gol-estrella-roja-barca_20241106672be65439a16c0001a40db7.html\",\n",
    "    \"https://www.lasexta.com/noticias/deportes/futbol/habra-minuto-silencio-partidos-champions-europa-league-conference-victimas-dana_2024110467290d242914190001eb0802.html\",\n",
    "    \"https://www.lasexta.com/noticias/deportes/futbol/sorteo-champions-league-nuevo-formato-fase-grupos-bolas-ordenador_2024082866cf0eb2797ae1000178349e.html\",\n",
    "    \"https://www.cmdsport.com/futbol/entrenamiento-futbol/el-aumento-de-sustituciones-en-los-partidos-de-futbol-mejora-el-rendimiento/\",\n",
    "    \"https://www.eldiadecordoba.es/cordobacf/cordoba-cf-naming-arcangel-estrategia-clubes-futbol-profesional_0_2003294980.html\",\n",
    "    \"https://xcatalunya.cat/es/deportes/fuera-futbol-italiano-estrategia-inedita-atalanta-ganar-barca\",\n",
    "    \"https://www.infobae.com/espana/deportes/2024/07/31/futbol-femenino-la-bochornosa-estrategia-de-brasil-para-perder-tiempo-frente-a-espana-que-obligo-a-alargar-el-partido-16-minutos/\",\n",
    "    \"https://www.mundodeportivo.com/futbol/premier-league/20241205/1002365962/arsenal-arteta-jover-rey-estrategia-premier.html\",\n",
    "    \"https://www.marca.com/futbol/real-madrid/2025/02/13/ofrecio-vinicius.html\",\n",
    "    \"https://www.marca.com/futbol/real-madrid/2025/02/13/regalo-esperaba-asencio.html\",\n",
    "    \"https://www.marca.com/futbol/futbol-internacional/2025/02/13/espana-punto-superar-italia-quinto-equipo-champions.html\",\n",
    "    \"https://www.marca.com/futbol/premier-league/2025/02/13/doble-vida-marc-guiu-pichichi-conference-inedito-premier.html\",\n",
    "    \"https://www.mundodeportivo.com/futbol/fc-barcelona/20250213/1002406658/tah-elige-barca.html\",\n",
    "    \"https://www.mundodeportivo.com/futbol/fc-barcelona/20250212/1002406618/pau-victor-9-partidos-entrando-ultimo-minuto.html\",\n",
    "    \"https://www.mundodeportivo.com/futbol/fc-barcelona/20250213/1002406758/fallece-ex-vicepresidente-fc-barcelona-francesc-pulido.html\",\n",
    "    \"https://www.mundodeportivo.com/futbol/fc-barcelona/20250213/1002406741/cubarsi-firma-hoy-renovacion.html\"\n",
    "]\n",
    "\n",
    "def obtener_texto(url):\n",
    "    response = requests.get(url)\n",
    "    if response.status_code == 200:\n",
    "        soup = BeautifulSoup(response.text, 'html.parser')\n",
    "        paragraphs = soup.find_all('p')\n",
    "        text = \" \".join([p.get_text() for p in paragraphs])\n",
    "        return text\n",
    "    else:\n",
    "        return \"\"\n",
    "\n",
    "articulos_lesiones = [obtener_texto(url) for url in urls_lesiones]\n",
    "\n",
    "articulos_no_lesiones = [obtener_texto(url) for url in urls_no_lesiones]\n",
    "\n",
    "etiquetas_lesiones = [1] * len(articulos_lesiones)\n",
    "etiquetas_no_lesiones = [0] * len(articulos_no_lesiones)\n",
    "\n",
    "articulos = articulos_lesiones + articulos_no_lesiones\n",
    "etiquetas = etiquetas_lesiones + etiquetas_no_lesiones"
   ]
  },
  {
   "cell_type": "code",
   "execution_count": 191,
   "metadata": {
    "colab": {
     "base_uri": "https://localhost:8080/"
    },
    "executionInfo": {
     "elapsed": 41,
     "status": "ok",
     "timestamp": 1739972698719,
     "user": {
      "displayName": "Dani DanB",
      "userId": "00378567025082066020"
     },
     "user_tz": -60
    },
    "id": "0XzjGOXBB7bR",
    "outputId": "47906f5f-26ea-47cd-f936-9617553a2e09"
   },
   "outputs": [
    {
     "name": "stderr",
     "output_type": "stream",
     "text": [
      "[nltk_data] Downloading package stopwords to /root/nltk_data...\n",
      "[nltk_data]   Package stopwords is already up-to-date!\n"
     ]
    }
   ],
   "source": [
    "nltk.download('stopwords')\n",
    "stop_words = set(stopwords.words('spanish'))\n"
   ]
  },
  {
   "cell_type": "code",
   "execution_count": 192,
   "metadata": {
    "executionInfo": {
     "elapsed": 2891,
     "status": "ok",
     "timestamp": 1739972701598,
     "user": {
      "displayName": "Dani DanB",
      "userId": "00378567025082066020"
     },
     "user_tz": -60
    },
    "id": "QISRgfsjD0HZ"
   },
   "outputs": [],
   "source": [
    "def lematizar_y_filtrar(texto):\n",
    "    doc = nlp(texto)\n",
    "    return \" \".join([token.lemma_ for token in doc if token.is_alpha and token.text not in stop_words])\n",
    "\n",
    "articulos_procesados = [lematizar_y_filtrar(articulo) for articulo in articulos]"
   ]
  },
  {
   "cell_type": "code",
   "execution_count": 193,
   "metadata": {
    "executionInfo": {
     "elapsed": 27,
     "status": "ok",
     "timestamp": 1739972701623,
     "user": {
      "displayName": "Dani DanB",
      "userId": "00378567025082066020"
     },
     "user_tz": -60
    },
    "id": "WzKPFJh4CCK6"
   },
   "outputs": [],
   "source": [
    "vectorizer = TfidfVectorizer()\n",
    "X_tfidf = vectorizer.fit_transform(articulos_procesados)"
   ]
  },
  {
   "cell_type": "code",
   "execution_count": 194,
   "metadata": {
    "colab": {
     "base_uri": "https://localhost:8080/"
    },
    "executionInfo": {
     "elapsed": 206,
     "status": "ok",
     "timestamp": 1739972701823,
     "user": {
      "displayName": "Dani DanB",
      "userId": "00378567025082066020"
     },
     "user_tz": -60
    },
    "id": "IwOY91yDCFFx",
    "outputId": "28fbc54b-6dfa-4f80-9d84-f0004b76d52f"
   },
   "outputs": [
    {
     "name": "stdout",
     "output_type": "stream",
     "text": [
      "Mejor parámetro C: {'C': 10}\n",
      "Informe de clasificación:\n",
      "              precision    recall  f1-score   support\n",
      "\n",
      "           0       1.00      0.86      0.92         7\n",
      "           1       0.75      1.00      0.86         3\n",
      "\n",
      "    accuracy                           0.90        10\n",
      "   macro avg       0.88      0.93      0.89        10\n",
      "weighted avg       0.93      0.90      0.90        10\n",
      "\n",
      "Cross-validation scores: [0.9 0.7 0.9 0.9 0.9]\n",
      "Accuracy promedio en validación cruzada: 0.86\n"
     ]
    }
   ],
   "source": [
    "X_train, X_test, y_train, y_test = train_test_split(X_tfidf, etiquetas, test_size=0.2, random_state=42)\n",
    "\n",
    "smote = SMOTE(random_state=42)\n",
    "X_train_smote, y_train_smote = smote.fit_resample(X_train, y_train)\n",
    "\n",
    "model = LogisticRegression(max_iter=200)\n",
    "\n",
    "param_grid = {'C': [0.01, 0.1, 1, 10, 100]}\n",
    "grid_search = GridSearchCV(model, param_grid, cv=5)\n",
    "grid_search.fit(X_train_smote, y_train_smote)\n",
    "\n",
    "print(\"Mejor parámetro C:\", grid_search.best_params_)\n",
    "\n",
    "best_model = grid_search.best_estimator_\n",
    "\n",
    "y_pred = best_model.predict(X_test)\n",
    "\n",
    "print(\"Informe de clasificación:\")\n",
    "print(classification_report(y_test, y_pred))\n",
    "\n",
    "cv_scores = cross_val_score(grid_search.best_estimator_, X_tfidf, etiquetas, cv=5, scoring='accuracy')\n",
    "print(f\"Cross-validation scores: {cv_scores}\")\n",
    "print(f\"Accuracy promedio en validación cruzada: {np.mean(cv_scores)}\")"
   ]
  },
  {
   "cell_type": "code",
   "execution_count": 195,
   "metadata": {
    "colab": {
     "base_uri": "https://localhost:8080/"
    },
    "executionInfo": {
     "elapsed": 220,
     "status": "ok",
     "timestamp": 1739972702044,
     "user": {
      "displayName": "Dani DanB",
      "userId": "00378567025082066020"
     },
     "user_tz": -60
    },
    "id": "xeWwQn4WdmmK",
    "outputId": "34d9a0b6-b33f-44cc-baf0-f67c37ebc506"
   },
   "outputs": [
    {
     "name": "stdout",
     "output_type": "stream",
     "text": [
      "Mejor parámetro C: {'C': 5}\n",
      "Informe de clasificación en el conjunto de prueba:\n",
      "              precision    recall  f1-score   support\n",
      "\n",
      "           0       0.75      0.75      0.75         8\n",
      "           1       0.71      0.71      0.71         7\n",
      "\n",
      "    accuracy                           0.73        15\n",
      "   macro avg       0.73      0.73      0.73        15\n",
      "weighted avg       0.73      0.73      0.73        15\n",
      "\n"
     ]
    }
   ],
   "source": [
    "X_train, X_test, y_train, y_test = train_test_split(X_tfidf, etiquetas, test_size=0.3, random_state=42)\n",
    "\n",
    "smote = SMOTE(random_state=42)\n",
    "X_train_res, y_train_res = smote.fit_resample(X_train, y_train)\n",
    "\n",
    "model = SVC(class_weight='balanced')\n",
    "\n",
    "param_grid = {'C': [1, 5, 10, 50, 100]}\n",
    "grid_search = GridSearchCV(model, param_grid, cv=5, scoring='accuracy')\n",
    "grid_search.fit(X_train_res, y_train_res)\n",
    "\n",
    "print(f\"Mejor parámetro C: {grid_search.best_params_}\")\n",
    "\n",
    "y_pred = grid_search.best_estimator_.predict(X_test)\n",
    "print(\"Informe de clasificación en el conjunto de prueba:\")\n",
    "print(classification_report(y_test, y_pred))"
   ]
  },
  {
   "cell_type": "code",
   "execution_count": 196,
   "metadata": {
    "colab": {
     "base_uri": "https://localhost:8080/"
    },
    "executionInfo": {
     "elapsed": 61,
     "status": "ok",
     "timestamp": 1739972702109,
     "user": {
      "displayName": "Dani DanB",
      "userId": "00378567025082066020"
     },
     "user_tz": -60
    },
    "id": "HTqWKr7lCT-R",
    "outputId": "43e5e2da-d54d-4802-b200-252b0896cb4f"
   },
   "outputs": [
    {
     "name": "stdout",
     "output_type": "stream",
     "text": [
      "Cross-validation scores: [0.8 0.7 0.9 0.9 0.9]\n",
      "Accuracy promedio en validación cruzada: 0.8400000000000001\n"
     ]
    }
   ],
   "source": [
    "cv_scores = cross_val_score(grid_search.best_estimator_, X_tfidf, etiquetas, cv=5, scoring='accuracy')\n",
    "print(f\"Cross-validation scores: {cv_scores}\")\n",
    "print(f\"Accuracy promedio en validación cruzada: {np.mean(cv_scores)}\")"
   ]
  },
  {
   "cell_type": "markdown",
   "metadata": {
    "id": "tiWyJkLxfqdC"
   },
   "source": [
    "Este modelo también tiene un buen rendimiento, y pero el 84% de estabilidad en validación cruzada lo hace bastante bueno."
   ]
  },
  {
   "cell_type": "code",
   "execution_count": 197,
   "metadata": {
    "executionInfo": {
     "elapsed": 2,
     "status": "ok",
     "timestamp": 1739972702138,
     "user": {
      "displayName": "Dani DanB",
      "userId": "00378567025082066020"
     },
     "user_tz": -60
    },
    "id": "PWZPswMaDDRC"
   },
   "outputs": [],
   "source": [
    "from sklearn.ensemble import RandomForestClassifier\n",
    "from sklearn.tree import DecisionTreeClassifier\n",
    "from sklearn.metrics import classification_report"
   ]
  },
  {
   "cell_type": "markdown",
   "metadata": {
    "id": "gSQNeeE3DEA5"
   },
   "source": [
    "Vamos a valorar otros modelos"
   ]
  },
  {
   "cell_type": "code",
   "execution_count": 198,
   "metadata": {
    "colab": {
     "base_uri": "https://localhost:8080/"
    },
    "executionInfo": {
     "elapsed": 1388,
     "status": "ok",
     "timestamp": 1739972703527,
     "user": {
      "displayName": "Dani DanB",
      "userId": "00378567025082066020"
     },
     "user_tz": -60
    },
    "id": "j3VmV8BzewxU",
    "outputId": "90a5cfda-a877-4d48-dc6e-911a628a4431"
   },
   "outputs": [
    {
     "name": "stdout",
     "output_type": "stream",
     "text": [
      "\n",
      "Evaluando modelo SVM...\n",
      "\n",
      "Informe de clasificación para SVM:\n",
      "              precision    recall  f1-score   support\n",
      "\n",
      "           0       0.75      0.75      0.75         8\n",
      "           1       0.71      0.71      0.71         7\n",
      "\n",
      "    accuracy                           0.73        15\n",
      "   macro avg       0.73      0.73      0.73        15\n",
      "weighted avg       0.73      0.73      0.73        15\n",
      "\n",
      "Accuracy promedio en validación cruzada para SVM: 0.9428571428571428\n",
      "\n",
      "Evaluando modelo Random Forest...\n",
      "\n",
      "Informe de clasificación para Random Forest:\n",
      "              precision    recall  f1-score   support\n",
      "\n",
      "           0       0.78      0.88      0.82         8\n",
      "           1       0.83      0.71      0.77         7\n",
      "\n",
      "    accuracy                           0.80        15\n",
      "   macro avg       0.81      0.79      0.80        15\n",
      "weighted avg       0.80      0.80      0.80        15\n",
      "\n",
      "Accuracy promedio en validación cruzada para Random Forest: 0.7999999999999999\n",
      "\n",
      "Evaluando modelo Decision Tree...\n",
      "\n",
      "Informe de clasificación para Decision Tree:\n",
      "              precision    recall  f1-score   support\n",
      "\n",
      "           0       0.78      0.88      0.82         8\n",
      "           1       0.83      0.71      0.77         7\n",
      "\n",
      "    accuracy                           0.80        15\n",
      "   macro avg       0.81      0.79      0.80        15\n",
      "weighted avg       0.80      0.80      0.80        15\n",
      "\n",
      "Accuracy promedio en validación cruzada para Decision Tree: 0.8857142857142858\n"
     ]
    }
   ],
   "source": [
    "X_train, X_test, y_train, y_test = train_test_split(X_tfidf, etiquetas, test_size=0.3, random_state=42)\n",
    "\n",
    "models = {\n",
    "    'SVC': SVC(C=10, kernel='linear'),\n",
    "    'Random Forest': RandomForestClassifier(n_estimators=100, random_state=42),\n",
    "    'Decision Tree': DecisionTreeClassifier(random_state=42)\n",
    "}\n",
    "\n",
    "for name, model in models.items():\n",
    "    print(f\"\\nEvaluando modelo {name}...\")\n",
    "    model.fit(X_train, y_train)\n",
    "    y_pred = model.predict(X_test)\n",
    "\n",
    "    print(f\"\\nInforme de clasificación para {name}:\")\n",
    "    print(classification_report(y_test, y_pred))\n",
    "\n",
    "    cross_val = cross_val_score(model, X_train, y_train, cv=5, scoring='accuracy')\n",
    "    print(f\"Accuracy promedio en validación cruzada para {name}: {cross_val.mean()}\")\n"
   ]
  },
  {
   "cell_type": "markdown",
   "metadata": {
    "id": "C6DfNTFzGYHL"
   },
   "source": [
    "Podemos concluir que SVC es buen modelo en general, pero gracias a la validación cruzada, con 94% de accuracy. Generaliza bien, aunque es cierto que tiene métricas algo peores en precisión y recall otros modelos.\n",
    "La regresión logísitca tiene un buen rendimiento también, con buen accuracy y métricas de precisión y recall. El peor rendimiento con validación cruzada lo tiene el Random Forest, que incluso puede que esté sobreajustando. Aunque en realidad el Random Forest es el que mejores métricas nos devuelve."
   ]
  },
  {
   "cell_type": "markdown",
   "metadata": {
    "id": "7pOIUHPcIrCK"
   },
   "source": [
    " Lo que más nos interesa ahora mismo es que sea un modelo que detecte como lesión lo que realmente es una lesión, por lo que necesitamos una alta precisión en la clase 1 (artículos de lesiones), por lo que el random forest nos daría un valor perfecto en accuracy. Si queremos un equilibrio, podríamos optar por la Regresión Logística, que nos ayuda a detectar la mayor cantidad de artículos sobre lesiones, con un recall perfecto de la clase 1.\n",
    "\n",
    "Como la Regresion Logistica ya la teníamos anteriormente seleccionada como best_model, vamos a comporbar qué tal es para el conjunto de prueba, ver su curva de aprendizaje y graficar la matriz de confusión\n"
   ]
  },
  {
   "cell_type": "code",
   "execution_count": 199,
   "metadata": {
    "colab": {
     "base_uri": "https://localhost:8080/"
    },
    "executionInfo": {
     "elapsed": 22,
     "status": "ok",
     "timestamp": 1739972703555,
     "user": {
      "displayName": "Dani DanB",
      "userId": "00378567025082066020"
     },
     "user_tz": -60
    },
    "id": "a9c2sQ6IKL7i",
    "outputId": "e2fc81f4-eec3-4b4f-d2bd-a449dd6156e2"
   },
   "outputs": [
    {
     "name": "stdout",
     "output_type": "stream",
     "text": [
      "Informe de clasificación para el conjunto de prueba:\n",
      "              precision    recall  f1-score   support\n",
      "\n",
      "           0       1.00      0.88      0.93         8\n",
      "           1       0.88      1.00      0.93         7\n",
      "\n",
      "    accuracy                           0.93        15\n",
      "   macro avg       0.94      0.94      0.93        15\n",
      "weighted avg       0.94      0.93      0.93        15\n",
      "\n",
      "Precisión en el conjunto de prueba: 0.9333333333333333\n"
     ]
    }
   ],
   "source": [
    "from sklearn.metrics import classification_report, accuracy_score\n",
    "\n",
    "y_pred = best_model.predict(X_test)\n",
    "\n",
    "print(\"Informe de clasificación para el conjunto de prueba:\")\n",
    "print(classification_report(y_test, y_pred))\n",
    "\n",
    "print(\"Precisión en el conjunto de prueba:\", accuracy_score(y_test, y_pred))\n"
   ]
  },
  {
   "cell_type": "markdown",
   "metadata": {
    "id": "IMZPs6NCM85j"
   },
   "source": [
    "Nos da unos datos bastante buenos y una curva de aprendizaje bastante aceptable. Se observa como necesitabamos más artículos para procesar al principio, ya que no aprendía e incluso bajaba la precisión. A partir de los 9 artículos tienen un crecimiento constante y se va estabilizando un poco a partir de 21 artículos de fútbol"
   ]
  },
  {
   "cell_type": "code",
   "execution_count": 200,
   "metadata": {
    "colab": {
     "base_uri": "https://localhost:8080/",
     "height": 472
    },
    "executionInfo": {
     "elapsed": 471,
     "status": "ok",
     "timestamp": 1739972704024,
     "user": {
      "displayName": "Dani DanB",
      "userId": "00378567025082066020"
     },
     "user_tz": -60
    },
    "id": "EG_kMsIRLY9S",
    "outputId": "07b3f605-ccd5-401b-d7ec-8449bc4e3902"
   },
   "outputs": [
    {
     "data": {
      "image/png": "[encoded data removed]",
      "text/plain": [
       "<Figure size 640x480 with 1 Axes>"
      ]
     },
     "metadata": {},
     "output_type": "display_data"
    }
   ],
   "source": [
    "train_sizes, train_scores, test_scores = learning_curve(best_model, X_train, y_train, cv=5)\n",
    "\n",
    "train_scores_mean = train_scores.mean(axis=1)\n",
    "test_scores_mean = test_scores.mean(axis=1)\n",
    "\n",
    "plt.figure()\n",
    "plt.plot(train_sizes, train_scores_mean, label=\"Puntaje de Entrenamiento\")\n",
    "plt.plot(train_sizes, test_scores_mean, label=\"Puntaje de Prueba\")\n",
    "plt.xlabel('Tamaño del conjunto de entrenamiento')\n",
    "plt.ylabel('Precisión')\n",
    "plt.title('Curva de Aprendizaje')\n",
    "plt.legend()\n",
    "plt.show()\n"
   ]
  },
  {
   "cell_type": "markdown",
   "metadata": {
    "id": "VbEjJT_iNEvm"
   },
   "source": [
    "En la matriz de confusión observamos que las predicciones de fútbol general son perfectas con los datos que tenemos y que solo ha fallado en una predicción de lesión que realmente era fútbol en general"
   ]
  },
  {
   "cell_type": "code",
   "execution_count": 201,
   "metadata": {
    "colab": {
     "base_uri": "https://localhost:8080/",
     "height": 488
    },
    "executionInfo": {
     "elapsed": 213,
     "status": "ok",
     "timestamp": 1739972704239,
     "user": {
      "displayName": "Dani DanB",
      "userId": "00378567025082066020"
     },
     "user_tz": -60
    },
    "id": "KVxNikvtLI-y",
    "outputId": "ac5a2bcc-d979-48ca-8de3-78f958cc693d"
   },
   "outputs": [
    {
     "data": {
      "image/png": "[encoded data removed]",
      "text/plain": [
       "<Figure size 500x500 with 2 Axes>"
      ]
     },
     "metadata": {},
     "output_type": "display_data"
    }
   ],
   "source": [
    "from sklearn.metrics import confusion_matrix\n",
    "\n",
    "cm_logisticregression = confusion_matrix(y_test, y_pred)\n",
    "\n",
    "plt.figure(figsize=(5, 5))\n",
    "sns.heatmap(cm_logisticregression, annot=True, fmt='d', cmap='Blues', xticklabels=['Fútbol general', 'Lesión'], yticklabels=['Fútbol general', 'Lesión'])\n",
    "plt.xlabel('Predicción')\n",
    "plt.ylabel('Real')\n",
    "plt.title('Matriz de Confusión')\n",
    "plt.show()"
   ]
  },
  {
   "cell_type": "markdown",
   "metadata": {
    "id": "TDUJeitse5g1"
   },
   "source": [
    "Para Random Forest"
   ]
  },
  {
   "cell_type": "code",
   "execution_count": 202,
   "metadata": {
    "colab": {
     "base_uri": "https://localhost:8080/"
    },
    "executionInfo": {
     "elapsed": 154096,
     "status": "ok",
     "timestamp": 1739972858332,
     "user": {
      "displayName": "Dani DanB",
      "userId": "00378567025082066020"
     },
     "user_tz": -60
    },
    "id": "gl9as2ViMaOs",
    "outputId": "bb0e4671-46cd-475a-c794-cd30f8cd6405"
   },
   "outputs": [
    {
     "name": "stdout",
     "output_type": "stream",
     "text": [
      "Fitting 5 folds for each of 108 candidates, totalling 540 fits\n"
     ]
    }
   ],
   "source": [
    "from sklearn.ensemble import RandomForestClassifier\n",
    "from sklearn.model_selection import GridSearchCV\n",
    "\n",
    "param_grid_rf = {\n",
    "    'n_estimators': [100, 200, 300],\n",
    "    'max_depth': [None, 10, 20, 30],\n",
    "    'min_samples_split': [2, 5, 10],\n",
    "    'min_samples_leaf': [1, 2, 4]\n",
    "}\n",
    "\n",
    "rf = RandomForestClassifier(random_state=42)\n",
    "\n",
    "grid_search_rf = GridSearchCV(estimator=rf, param_grid=param_grid_rf, cv=5, n_jobs=-1, verbose=2)\n",
    "grid_search_rf.fit(X_train_res, y_train_res)\n",
    "\n",
    "best_model = grid_search_rf.best_estimator_\n",
    "\n",
    "y_pred = best_model.predict(X_test)\n"
   ]
  },
  {
   "cell_type": "code",
   "execution_count": 203,
   "metadata": {
    "colab": {
     "base_uri": "https://localhost:8080/"
    },
    "executionInfo": {
     "elapsed": 16,
     "status": "ok",
     "timestamp": 1739972858344,
     "user": {
      "displayName": "Dani DanB",
      "userId": "00378567025082066020"
     },
     "user_tz": -60
    },
    "id": "qC-t0sfxNeIy",
    "outputId": "962488d8-a2d3-4274-b09a-88df9254f50f"
   },
   "outputs": [
    {
     "name": "stdout",
     "output_type": "stream",
     "text": [
      "Informe de clasificación para el conjunto de prueba:\n",
      "              precision    recall  f1-score   support\n",
      "\n",
      "           0       0.80      1.00      0.89         8\n",
      "           1       1.00      0.71      0.83         7\n",
      "\n",
      "    accuracy                           0.87        15\n",
      "   macro avg       0.90      0.86      0.86        15\n",
      "weighted avg       0.89      0.87      0.86        15\n",
      "\n",
      "Precisión en el conjunto de prueba: 0.8666666666666667\n"
     ]
    }
   ],
   "source": [
    "y_pred = best_model.predict(X_test)\n",
    "\n",
    "print(\"Informe de clasificación para el conjunto de prueba:\")\n",
    "print(classification_report(y_test, y_pred))\n",
    "\n",
    "print(\"Precisión en el conjunto de prueba:\", accuracy_score(y_test, y_pred))"
   ]
  },
  {
   "cell_type": "markdown",
   "metadata": {
    "id": "K4qAlfGMZMUy"
   },
   "source": [
    "La curva de aprendizaje del Random Forest también muestra que va mejorando la predicción según le damos más artículos para analizar. Aún así, RF no llega a la precisión que nos da la regresión logísitica"
   ]
  },
  {
   "cell_type": "code",
   "execution_count": 204,
   "metadata": {
    "colab": {
     "base_uri": "https://localhost:8080/",
     "height": 472
    },
    "executionInfo": {
     "elapsed": 33397,
     "status": "ok",
     "timestamp": 1739972891759,
     "user": {
      "displayName": "Dani DanB",
      "userId": "00378567025082066020"
     },
     "user_tz": -60
    },
    "id": "n6U3JRdNNgzG",
    "outputId": "0e2bfebe-e2fe-4980-bb63-df1db2f5467f"
   },
   "outputs": [
    {
     "data": {
      "image/png": "[encoded data removed]",
      "text/plain": [
       "<Figure size 640x480 with 1 Axes>"
      ]
     },
     "metadata": {},
     "output_type": "display_data"
    }
   ],
   "source": [
    "train_sizes, train_scores, test_scores = learning_curve(best_model, X_train, y_train, cv=5)\n",
    "\n",
    "train_scores_mean = train_scores.mean(axis=1)\n",
    "test_scores_mean = test_scores.mean(axis=1)\n",
    "\n",
    "plt.figure()\n",
    "plt.plot(train_sizes, train_scores_mean, label=\"Puntaje de Entrenamiento\")\n",
    "plt.plot(train_sizes, test_scores_mean, label=\"Puntaje de Prueba\")\n",
    "plt.xlabel('Tamaño del conjunto de entrenamiento')\n",
    "plt.ylabel('Precisión')\n",
    "plt.title('Curva de Aprendizaje')\n",
    "plt.legend()\n",
    "plt.show()"
   ]
  },
  {
   "cell_type": "markdown",
   "metadata": {
    "id": "ccWwUI0MRnB1"
   },
   "source": [
    "Con la matriz de confusión vemos como el Random Forest está bastante bien también, aunque aquí lo que falla son dos artículos que son de lesiones y los predice como fútbol en general"
   ]
  },
  {
   "cell_type": "code",
   "execution_count": 205,
   "metadata": {
    "colab": {
     "base_uri": "https://localhost:8080/",
     "height": 488
    },
    "executionInfo": {
     "elapsed": 34,
     "status": "ok",
     "timestamp": 1739972891792,
     "user": {
      "displayName": "Dani DanB",
      "userId": "00378567025082066020"
     },
     "user_tz": -60
    },
    "id": "CX4mw7bcN1OS",
    "outputId": "042c53e8-9093-4617-9aab-b5bead5c118c"
   },
   "outputs": [
    {
     "data": {
      "image/png": "[encoded data removed]",
      "text/plain": [
       "<Figure size 500x500 with 2 Axes>"
      ]
     },
     "metadata": {},
     "output_type": "display_data"
    }
   ],
   "source": [
    "cm_randomforest = confusion_matrix(y_test, y_pred)\n",
    "\n",
    "plt.figure(figsize=(5, 5))\n",
    "sns.heatmap(cm_randomforest, annot=True, fmt='d', cmap='Blues', xticklabels=['Fútbol general', 'Lesión'], yticklabels=['Fútbol general', 'Lesión'])\n",
    "plt.xlabel('Predicción')\n",
    "plt.ylabel('Real')\n",
    "plt.title('Matriz de Confusión')\n",
    "plt.show()"
   ]
  },
  {
   "cell_type": "markdown",
   "metadata": {
    "id": "7FlB59XHRY7l"
   },
   "source": [
    "Ahora que también hemos visualizando vemos que cada modelo tiene sus pros y sus contras, el modelo de Regresión Logística es mejor en acierto y predicción y Random Forest tieen menos precisión en prueba, pero acierta todos los artículos de fútbol general. Así que procedemos a guardar los dos modelos, aunque quizás nos quedasemos con la Regresión, ya que lo que más nos importa son los artículos de lesiones y la precisión en test.\n",
    "\n",
    " Finalmente, el SVC no da tan buenos resultados, por lo que lo hemos desechado."
   ]
  },
  {
   "cell_type": "code",
   "execution_count": 206,
   "metadata": {
    "colab": {
     "base_uri": "https://localhost:8080/"
    },
    "executionInfo": {
     "elapsed": 33,
     "status": "ok",
     "timestamp": 1739972891826,
     "user": {
      "displayName": "Dani DanB",
      "userId": "00378567025082066020"
     },
     "user_tz": -60
    },
    "id": "rB7heGjHRhoE",
    "outputId": "2880f8fb-9273-4c4a-846d-d23e5561a161"
   },
   "outputs": [
    {
     "data": {
      "text/plain": [
       "['modelo_lesiones_LR.pkl']"
      ]
     },
     "execution_count": 206,
     "metadata": {},
     "output_type": "execute_result"
    }
   ],
   "source": [
    "import joblib\n",
    "\n",
    "best_model = grid_search.best_estimator_\n",
    "\n",
    "joblib.dump(best_model, 'modelo_lesiones_LR.pkl')\n",
    "\n"
   ]
  },
  {
   "cell_type": "markdown",
   "metadata": {
    "id": "J-GZrw4bQLis"
   },
   "source": [
    "____"
   ]
  },
  {
   "cell_type": "markdown",
   "metadata": {
    "id": "-NNYmaVRWvGC"
   },
   "source": [
    "### MODELO DE DEEP LEARNING CON BERT Y HUGGING FACE"
   ]
  },
  {
   "cell_type": "code",
   "execution_count": 207,
   "metadata": {
    "executionInfo": {
     "elapsed": 2,
     "status": "ok",
     "timestamp": 1739972891830,
     "user": {
      "displayName": "Dani DanB",
      "userId": "00378567025082066020"
     },
     "user_tz": -60
    },
    "id": "1G89jiwcE628"
   },
   "outputs": [],
   "source": [
    "# !pip install transformers datasets torch"
   ]
  },
  {
   "cell_type": "code",
   "execution_count": 208,
   "metadata": {
    "executionInfo": {
     "elapsed": 2,
     "status": "ok",
     "timestamp": 1739972891834,
     "user": {
      "displayName": "Dani DanB",
      "userId": "00378567025082066020"
     },
     "user_tz": -60
    },
    "id": "nT7BBrycXqMD"
   },
   "outputs": [],
   "source": [
    "from huggingface_hub import login\n",
    "from datasets import Dataset\n",
    "from sklearn.metrics import accuracy_score\n",
    "from transformers import Trainer, TrainingArguments, BertTokenizer, BertForSequenceClassification"
   ]
  },
  {
   "cell_type": "code",
   "execution_count": 209,
   "metadata": {
    "colab": {
     "base_uri": "https://localhost:8080/",
     "height": 359,
     "referenced_widgets": [
      "07c4e6aeeb0e49fea455cdb26528e2b0",
      "9b0882cde14b49099be90a6b61d62893",
      "f67c078c916e40d58cd43dcb7a39a592",
      "a60bf489a5e44f83a55a97c4fca06876",
      "23a37cb857244f2bb3df17553061c400",
      "6240bf8fc1ab4c53aeffd26252c7d2d8",
      "2c92f69309a94af699f351de57eff424",
      "fe7dd2175a664ddba9c6c0fa28330d05",
      "1ac333042e604a2985deb5a436fca4a4",
      "376e8bb93b1047b19f2836de6394da5b",
      "e69f9ae9d15440769b51322563e0c910",
      "206d3d21fe0349c2a755ab1788f74498",
      "ecceee8158184f34b596b717bf2abce6",
      "5053427e882a4c6da14a6ac1b89c83a4",
      "69f118ae71ed4b22902671f733ba3b22",
      "fbce8212166a45c4baf106a655ca6320",
      "defadaa466c7450f94b8bbfcc578c09d"
     ]
    },
    "executionInfo": {
     "elapsed": 7,
     "status": "ok",
     "timestamp": 1739972891843,
     "user": {
      "displayName": "Dani DanB",
      "userId": "00378567025082066020"
     },
     "user_tz": -60
    },
    "id": "Xckn-38IORBw",
    "outputId": "6ab5f0a2-5935-48bb-80c5-ca4e079c9f90"
   },
   "outputs": [
    {
     "data": {
      "application/vnd.jupyter.widget-view+json": {
       "model_id": "07c4e6aeeb0e49fea455cdb26528e2b0",
       "version_major": 2,
       "version_minor": 0
      },
      "text/plain": [
       "VBox(children=(HTML(value='<center> <img\\nsrc=https://huggingface.co/front/assets/huggingface_logo-noborder.sv…"
      ]
     },
     "metadata": {},
     "output_type": "display_data"
    }
   ],
   "source": [
    "login()"
   ]
  },
  {
   "cell_type": "markdown",
   "metadata": {
    "id": "bmfa0julbDUv"
   },
   "source": [
    "Recuperamos los datos de los artículos que ya teníamos, donde ya los teníamos etiquetados entre lesión y fútbol en general. Con ello creamos el dataset para dividir los datos para hacer train y test (entrenamiento y prueba)"
   ]
  },
  {
   "cell_type": "code",
   "execution_count": 210,
   "metadata": {
    "executionInfo": {
     "elapsed": 2,
     "status": "ok",
     "timestamp": 1739972891847,
     "user": {
      "displayName": "Dani DanB",
      "userId": "00378567025082066020"
     },
     "user_tz": -60
    },
    "id": "e6kCp1SpRHVf"
   },
   "outputs": [],
   "source": [
    "data = {\n",
    "    \"text\": articulos,\n",
    "    \"label\": etiquetas\n",
    "}\n",
    "\n",
    "dataset = Dataset.from_dict(data)\n",
    "\n",
    "train_test_split = dataset.train_test_split(test_size=0.2)\n",
    "train_dataset = train_test_split['train']\n",
    "test_dataset = train_test_split['test']"
   ]
  },
  {
   "cell_type": "markdown",
   "metadata": {
    "id": "ePGF5ipabjmp"
   },
   "source": [
    "Cargamos el tokenizador de BERT y el propio modelo BERT, para preentrenarlo en español. Despue´s creamos la función para hacer la tokenización y aplicarlo al dataset de train y test"
   ]
  },
  {
   "cell_type": "code",
   "execution_count": 211,
   "metadata": {
    "colab": {
     "base_uri": "https://localhost:8080/"
    },
    "executionInfo": {
     "elapsed": 8,
     "status": "ok",
     "timestamp": 1739972891857,
     "user": {
      "displayName": "Dani DanB",
      "userId": "00378567025082066020"
     },
     "user_tz": -60
    },
    "id": "mgjqp9bYX0f6",
    "outputId": "eae15a20-0bcb-43d3-c751-78525f7c61a3"
   },
   "outputs": [
    {
     "name": "stderr",
     "output_type": "stream",
     "text": [
      "Some weights of BertForSequenceClassification were not initialized from the model checkpoint at dccuchile/bert-base-spanish-wwm-uncased and are newly initialized: ['bert.pooler.dense.bias', 'bert.pooler.dense.weight', 'classifier.bias', 'classifier.weight']\n",
      "You should probably TRAIN this model on a down-stream task to be able to use it for predictions and inference.\n"
     ]
    }
   ],
   "source": [
    "tokenizer = BertTokenizer.from_pretrained(\"dccuchile/bert-base-spanish-wwm-uncased\")\n",
    "model = BertForSequenceClassification.from_pretrained(\"dccuchile/bert-base-spanish-wwm-uncased\", num_labels=2)"
   ]
  },
  {
   "cell_type": "code",
   "execution_count": 212,
   "metadata": {
    "colab": {
     "base_uri": "https://localhost:8080/",
     "height": 81,
     "referenced_widgets": [
      "04d0c0cef43a4ac2a4230704eedcfe68",
      "2ac8c9ad096f412c975a15795cac3598",
      "49a574e66e6b4348a153aa3f3ce6fab8",
      "d372213c10aa46baa27e00778958fc7e",
      "a8251575992a46cb8be4dc6ba64c1e8f",
      "59e9430bae53467e8aeb49994cdab353",
      "350da390f44c4229a48c57f55e615d2a",
      "daf8808c980641de814b433d99c4b09e",
      "39a503c5ecb240e2a64fa9eca8bfd333",
      "1b20dccbb5e44198968fe1dcb3fb67c7",
      "ae8803c1eb8b4c57b40664b3451fe095",
      "add8952c57a04ff99220402e0a2c4f98",
      "1a9d72b203bc4b059c04aa21aa2cf676",
      "2e574bb010614679bcfd60e9528dcc98",
      "199fa3eb33294a3389bcf98b183f0cb6",
      "a0c9e0d3bef04ab39ebb10b26f9c51b8",
      "b4d313a1cd324e74bcf3251c91d937f2",
      "459140e9bd16454a8fd4d5271104606d",
      "148e3c2d76924ba993c05fb7b77533bb",
      "d76c9ade112a4c618f4737fd357e370e",
      "76769fffeb63428cbccff931f4ce3980",
      "42a2555fab614d4da5a0719c9a9bfec8"
     ]
    },
    "executionInfo": {
     "elapsed": 6,
     "status": "ok",
     "timestamp": 1739972891864,
     "user": {
      "displayName": "Dani DanB",
      "userId": "00378567025082066020"
     },
     "user_tz": -60
    },
    "id": "U6UuUV7eX1va",
    "outputId": "1e3d44a6-5148-4823-f26d-3a40d6aeeef0"
   },
   "outputs": [
    {
     "data": {
      "application/vnd.jupyter.widget-view+json": {
       "model_id": "04d0c0cef43a4ac2a4230704eedcfe68",
       "version_major": 2,
       "version_minor": 0
      },
      "text/plain": [
       "Map:   0%|          | 0/40 [00:00<?, ? examples/s]"
      ]
     },
     "metadata": {},
     "output_type": "display_data"
    },
    {
     "data": {
      "application/vnd.jupyter.widget-view+json": {
       "model_id": "add8952c57a04ff99220402e0a2c4f98",
       "version_major": 2,
       "version_minor": 0
      },
      "text/plain": [
       "Map:   0%|          | 0/10 [00:00<?, ? examples/s]"
      ]
     },
     "metadata": {},
     "output_type": "display_data"
    }
   ],
   "source": [
    "def tokenize_function(examples):\n",
    "    return tokenizer(examples['text'], padding=\"max_length\", truncation=True)\n",
    "\n",
    "train_dataset = train_dataset.map(tokenize_function, batched=True)\n",
    "test_dataset = test_dataset.map(tokenize_function, batched=True)"
   ]
  },
  {
   "cell_type": "markdown",
   "metadata": {
    "id": "f5x5nmtgb7X7"
   },
   "source": [
    "Creamos la función para calcular la precisión del modelo y utilizamos los argumentos de entrenamiento, donde ya introducimos esa métrica de precisión (accuracy):"
   ]
  },
  {
   "cell_type": "code",
   "execution_count": 213,
   "metadata": {
    "executionInfo": {
     "elapsed": 2,
     "status": "ok",
     "timestamp": 1739972891867,
     "user": {
      "displayName": "Dani DanB",
      "userId": "00378567025082066020"
     },
     "user_tz": -60
    },
    "id": "EFbu5lNDX4Mi"
   },
   "outputs": [],
   "source": [
    "def compute_metrics(p):\n",
    "    predictions, labels = p\n",
    "    predictions = predictions.argmax(axis=-1)\n",
    "    return {\"accuracy\": accuracy_score(labels, predictions)}"
   ]
  },
  {
   "cell_type": "code",
   "execution_count": 214,
   "metadata": {
    "colab": {
     "base_uri": "https://localhost:8080/"
    },
    "executionInfo": {
     "elapsed": 9,
     "status": "ok",
     "timestamp": 1739972891878,
     "user": {
      "displayName": "Dani DanB",
      "userId": "00378567025082066020"
     },
     "user_tz": -60
    },
    "id": "l8FkQzweX6bj",
    "outputId": "2fc2b435-14e0-487b-da5a-41675326cab2"
   },
   "outputs": [
    {
     "name": "stderr",
     "output_type": "stream",
     "text": [
      "/usr/local/lib/python3.11/dist-packages/transformers/training_args.py:1575: FutureWarning: `evaluation_strategy` is deprecated and will be removed in version 4.46 of 🤗 Transformers. Use `eval_strategy` instead\n",
      "  warnings.warn(\n"
     ]
    }
   ],
   "source": [
    "training_args = TrainingArguments(\n",
    "    output_dir=\"./results\",\n",
    "    num_train_epochs=3,\n",
    "    evaluation_strategy=\"epoch\",\n",
    "    save_strategy=\"epoch\",\n",
    "    load_best_model_at_end=True,\n",
    "    metric_for_best_model=\"accuracy\",\n",
    ")"
   ]
  },
  {
   "cell_type": "markdown",
   "metadata": {
    "id": "tTqL6ZRuchRL"
   },
   "source": [
    "Ahora hacemos el trainer con el modelo y entrenamos el modelo completo"
   ]
  },
  {
   "cell_type": "code",
   "execution_count": 215,
   "metadata": {
    "executionInfo": {
     "elapsed": 2,
     "status": "ok",
     "timestamp": 1739972891880,
     "user": {
      "displayName": "Dani DanB",
      "userId": "00378567025082066020"
     },
     "user_tz": -60
    },
    "id": "EuvIVrSCX9T0"
   },
   "outputs": [],
   "source": [
    "trainer = Trainer(\n",
    "    model=model,\n",
    "    args=training_args,\n",
    "    train_dataset=train_dataset,\n",
    "    eval_dataset=test_dataset,\n",
    "    compute_metrics=compute_metrics\n",
    ")"
   ]
  },
  {
   "cell_type": "code",
   "execution_count": 216,
   "metadata": {
    "colab": {
     "base_uri": "https://localhost:8080/",
     "height": 206
    },
    "executionInfo": {
     "elapsed": 65845,
     "status": "ok",
     "timestamp": 1739972957726,
     "user": {
      "displayName": "Dani DanB",
      "userId": "00378567025082066020"
     },
     "user_tz": -60
    },
    "id": "T6kJ0mgQX-_p",
    "outputId": "01f4f2ec-e157-4c68-fdd8-cbe38b79cdda"
   },
   "outputs": [
    {
     "data": {
      "text/html": [
       "\n",
       "    <div>\n",
       "      \n",
       "      <progress value='15' max='15' style='width:300px; height:20px; vertical-align: middle;'></progress>\n",
       "      [15/15 01:15, Epoch 3/3]\n",
       "    </div>\n",
       "    <table border=\"1\" class=\"dataframe\">\n",
       "  <thead>\n",
       " <tr style=\"text-align: left;\">\n",
       "      <th>Epoch</th>\n",
       "      <th>Training Loss</th>\n",
       "      <th>Validation Loss</th>\n",
       "      <th>Accuracy</th>\n",
       "    </tr>\n",
       "  </thead>\n",
       "  <tbody>\n",
       "    <tr>\n",
       "      <td>1</td>\n",
       "      <td>No log</td>\n",
       "      <td>0.748519</td>\n",
       "      <td>0.300000</td>\n",
       "    </tr>\n",
       "    <tr>\n",
       "      <td>2</td>\n",
       "      <td>No log</td>\n",
       "      <td>0.485311</td>\n",
       "      <td>0.800000</td>\n",
       "    </tr>\n",
       "    <tr>\n",
       "      <td>3</td>\n",
       "      <td>No log</td>\n",
       "      <td>0.433686</td>\n",
       "      <td>0.900000</td>\n",
       "    </tr>\n",
       "  </tbody>\n",
       "</table><p>"
      ],
      "text/plain": [
       "<IPython.core.display.HTML object>"
      ]
     },
     "metadata": {},
     "output_type": "display_data"
    },
    {
     "data": {
      "text/plain": [
       "TrainOutput(global_step=15, training_loss=0.5349569956461588, metrics={'train_runtime': 75.997, 'train_samples_per_second': 1.579, 'train_steps_per_second': 0.197, 'total_flos': 31573326643200.0, 'train_loss': 0.5349569956461588, 'epoch': 3.0})"
      ]
     },
     "execution_count": 216,
     "metadata": {},
     "output_type": "execute_result"
    }
   ],
   "source": [
    "trainer.train()"
   ]
  },
  {
   "cell_type": "markdown",
   "metadata": {},
   "source": [
    "Vemos que con cada epoch el modelo va siendo más preciso. Finalmente logramos un modelo y unas métricas bastante buenas: 90% de precisión en evaluación, con pérdida de solo 0.43 y poco tiempo de ejecución "
   ]
  },
  {
   "cell_type": "code",
   "execution_count": null,
   "metadata": {
    "colab": {
     "base_uri": "https://localhost:8080/",
     "height": 75
    },
    "executionInfo": {
     "elapsed": 387,
     "status": "ok",
     "timestamp": 1739972958111,
     "user": {
      "displayName": "Dani DanB",
      "userId": "00378567025082066020"
     },
     "user_tz": -60
    },
    "id": "VSx312LYYAkK",
    "outputId": "3a5617e1-2bf8-4234-ed53-bce79c45f54c"
   },
   "outputs": [
    {
     "data": {
      "text/html": [
       "\n",
       "    <div>\n",
       "      \n",
       "      <progress value='2' max='2' style='width:300px; height:20px; vertical-align: middle;'></progress>\n",
       "      [2/2 00:00]\n",
       "    </div>\n",
       "    "
      ],
      "text/plain": [
       "<IPython.core.display.HTML object>"
      ]
     },
     "metadata": {},
     "output_type": "display_data"
    },
    {
     "name": "stdout",
     "output_type": "stream",
     "text": [
      "{'eval_loss': 0.43368595838546753, 'eval_accuracy': 0.9, 'eval_runtime': 0.3879, 'eval_samples_per_second': 25.782, 'eval_steps_per_second': 5.156, 'epoch': 3.0}\n"
     ]
    }
   ],
   "source": [
    "eval_results = trainer.evaluate()\n",
    "print(eval_results)"
   ]
  },
  {
   "cell_type": "markdown",
   "metadata": {
    "id": "W8RilHCNczHs"
   },
   "source": [
    "Guardamos el modelo y comprobamos que funcione con texto:"
   ]
  },
  {
   "cell_type": "code",
   "execution_count": 218,
   "metadata": {
    "colab": {
     "base_uri": "https://localhost:8080/"
    },
    "executionInfo": {
     "elapsed": 2830,
     "status": "ok",
     "timestamp": 1739972960942,
     "user": {
      "displayName": "Dani DanB",
      "userId": "00378567025082066020"
     },
     "user_tz": -60
    },
    "id": "uizqwUgaYCbC",
    "outputId": "9cbd5604-3f4c-4072-a2ed-0a80cc871b98"
   },
   "outputs": [
    {
     "data": {
      "text/plain": [
       "('./modelo_lesiones_bert/tokenizer_config.json',\n",
       " './modelo_lesiones_bert/special_tokens_map.json',\n",
       " './modelo_lesiones_bert/vocab.txt',\n",
       " './modelo_lesiones_bert/added_tokens.json')"
      ]
     },
     "execution_count": 218,
     "metadata": {},
     "output_type": "execute_result"
    }
   ],
   "source": [
    "model.save_pretrained(\"./modelo_lesiones_bert\")\n",
    "tokenizer.save_pretrained(\"./modelo_lesiones_bert\")"
   ]
  },
  {
   "cell_type": "code",
   "execution_count": 219,
   "metadata": {
    "colab": {
     "base_uri": "https://localhost:8080/"
    },
    "executionInfo": {
     "elapsed": 1096,
     "status": "ok",
     "timestamp": 1739972962042,
     "user": {
      "displayName": "Dani DanB",
      "userId": "00378567025082066020"
     },
     "user_tz": -60
    },
    "id": "1-7zq5tnUtqY",
    "outputId": "c1ccbc25-217a-4524-d31c-08883ab8e528"
   },
   "outputs": [
    {
     "name": "stdout",
     "output_type": "stream",
     "text": [
      "El artículo pertenece a la categoría: Lesión\n"
     ]
    }
   ],
   "source": [
    "model = BertForSequenceClassification.from_pretrained(\"./modelo_lesiones_futbol\")\n",
    "tokenizer = BertTokenizer.from_pretrained(\"./modelo_lesiones_futbol\")\n",
    "\n",
    "def predecir(texto):\n",
    "    inputs = tokenizer(texto, return_tensors=\"pt\", truncation=True, padding=True, max_length=512)\n",
    "    outputs = model(**inputs)\n",
    "    logits = outputs.logits\n",
    "    prediction = logits.argmax(axis=-1).item()\n",
    "    return \"Lesión\" if prediction == 1 else \"Fútbol en general\"\n",
    "\n",
    "nuevo_articulo = \"Koke sufre una lesión muscular en la pierna derecha. Nuestro capitán acabó el encuentro ante el RC Celta con molestias y se ha sometido a pruebas médicas que han confirmado el alcance de la lesión. Koke acabó el partido del pasado sábado ante el RC Celta con molestias. El centrocampista se ha sometido a pruebas y el parte ofrecido por los servicios médicos del club indica que nuestro capitán sufre una lesión muscular en la pierna derecha. El centrocampista rojiblanco realizará sesiones de fisioterapia y trabajo de readaptación en el gimnasio y la evolución de su lesión determinará su regreso a la competición. \"\n",
    "resultado = predecir(nuevo_articulo)\n",
    "print(f\"El artículo pertenece a la categoría: {resultado}\")"
   ]
  },
  {
   "cell_type": "code",
   "execution_count": 220,
   "metadata": {
    "colab": {
     "base_uri": "https://localhost:8080/"
    },
    "executionInfo": {
     "elapsed": 1009,
     "status": "ok",
     "timestamp": 1739972963052,
     "user": {
      "displayName": "Dani DanB",
      "userId": "00378567025082066020"
     },
     "user_tz": -60
    },
    "id": "qlmHTM0TYKPK",
    "outputId": "eedb8384-0cf7-4b79-b0fa-d8a00d595021"
   },
   "outputs": [
    {
     "name": "stdout",
     "output_type": "stream",
     "text": [
      "El artículo pertenece a la categoría: Fútbol en general\n"
     ]
    }
   ],
   "source": [
    "model = BertForSequenceClassification.from_pretrained(\"./modelo_lesiones_futbol\")\n",
    "tokenizer = BertTokenizer.from_pretrained(\"./modelo_lesiones_futbol\")\n",
    "\n",
    "def predecir(texto):\n",
    "    inputs = tokenizer(texto, return_tensors=\"pt\", truncation=True, padding=True, max_length=512)\n",
    "    outputs = model(**inputs)\n",
    "    logits = outputs.logits\n",
    "    prediction = logits.argmax(axis=-1).item()\n",
    "    return \"Lesión\" if prediction == 1 else \"Fútbol en general\"\n",
    "\n",
    "nuevo_articulo = \"Y los cuatro protectores de Courtois, los perfilados más Asencio y Mendy. Es decir, Valverde como lateral derecho, una vez más (la séptima en la temporada) y Rüdiger, tras superar su lesión en el bíceps femoral, directo al once. A una noche de las que ponen de punta los pelos al alemán. Un reto, tener a Haaland enfrente, que dispara aún una motivación que su fútbol lleva intrínseco. Además, contará con Asencio tras su bautismo del Etihad y un Mendy que, en la batalla perenne con Fran García, está ante un examen importante. De modo que el once que le sobrevuela la mente a Ancelotti es el siguiente: Courtois; Valverde, Asencio, Rüdiger, Mendy; Tchouameni, Ceballos; Rodrygo, Bellingham, Vinicius; y Mbappé.\"\n",
    "resultado = predecir(nuevo_articulo)\n",
    "print(f\"El artículo pertenece a la categoría: {resultado}\")"
   ]
  }
 ],
 "metadata": {
  "accelerator": "GPU",
  "colab": {
   "authorship_tag": "ABX9TyPabQltxeDaL6lW9NcCnNyW",
   "gpuType": "T4",
   "provenance": []
  },
  "kernelspec": {
   "display_name": "Python 3",
   "name": "python3"
  },
  "language_info": {
   "name": "python"
  },
  "widgets": {
   "application/vnd.jupyter.widget-state+json": {
    "04d0c0cef43a4ac2a4230704eedcfe68": {
     "model_module": "@jupyter-widgets/controls",
     "model_module_version": "1.5.0",
     "model_name": "HBoxModel",
     "state": {
      "_dom_classes": [],
      "_model_module": "@jupyter-widgets/controls",
      "_model_module_version": "1.5.0",
      "_model_name": "HBoxModel",
      "_view_count": null,
      "_view_module": "@jupyter-widgets/controls",
      "_view_module_version": "1.5.0",
      "_view_name": "HBoxView",
      "box_style": "",
      "children": [
       "IPY_MODEL_2ac8c9ad096f412c975a15795cac3598",
       "IPY_MODEL_49a574e66e6b4348a153aa3f3ce6fab8",
       "IPY_MODEL_d372213c10aa46baa27e00778958fc7e"
      ],
      "layout": "IPY_MODEL_a8251575992a46cb8be4dc6ba64c1e8f"
     }
    },
    "07c4e6aeeb0e49fea455cdb26528e2b0": {
     "model_module": "@jupyter-widgets/controls",
     "model_module_version": "1.5.0",
     "model_name": "VBoxModel",
     "state": {
      "_dom_classes": [],
      "_model_module": "@jupyter-widgets/controls",
      "_model_module_version": "1.5.0",
      "_model_name": "VBoxModel",
      "_view_count": null,
      "_view_module": "@jupyter-widgets/controls",
      "_view_module_version": "1.5.0",
      "_view_name": "VBoxView",
      "box_style": "",
      "children": [
       "IPY_MODEL_9b0882cde14b49099be90a6b61d62893",
       "IPY_MODEL_f67c078c916e40d58cd43dcb7a39a592",
       "IPY_MODEL_a60bf489a5e44f83a55a97c4fca06876",
       "IPY_MODEL_23a37cb857244f2bb3df17553061c400",
       "IPY_MODEL_6240bf8fc1ab4c53aeffd26252c7d2d8"
      ],
      "layout": "IPY_MODEL_2c92f69309a94af699f351de57eff424"
     }
    },
    "148e3c2d76924ba993c05fb7b77533bb": {
     "model_module": "@jupyter-widgets/base",
     "model_module_version": "1.2.0",
     "model_name": "LayoutModel",
     "state": {
      "_model_module": "@jupyter-widgets/base",
      "_model_module_version": "1.2.0",
      "_model_name": "LayoutModel",
      "_view_count": null,
      "_view_module": "@jupyter-widgets/base",
      "_view_module_version": "1.2.0",
      "_view_name": "LayoutView",
      "align_content": null,
      "align_items": null,
      "align_self": null,
      "border": null,
      "bottom": null,
      "display": null,
      "flex": null,
      "flex_flow": null,
      "grid_area": null,
      "grid_auto_columns": null,
      "grid_auto_flow": null,
      "grid_auto_rows": null,
      "grid_column": null,
      "grid_gap": null,
      "grid_row": null,
      "grid_template_areas": null,
      "grid_template_columns": null,
      "grid_template_rows": null,
      "height": null,
      "justify_content": null,
      "justify_items": null,
      "left": null,
      "margin": null,
      "max_height": null,
      "max_width": null,
      "min_height": null,
      "min_width": null,
      "object_fit": null,
      "object_position": null,
      "order": null,
      "overflow": null,
      "overflow_x": null,
      "overflow_y": null,
      "padding": null,
      "right": null,
      "top": null,
      "visibility": null,
      "width": null
     }
    },
    "199fa3eb33294a3389bcf98b183f0cb6": {
     "model_module": "@jupyter-widgets/controls",
     "model_module_version": "1.5.0",
     "model_name": "HTMLModel",
     "state": {
      "_dom_classes": [],
      "_model_module": "@jupyter-widgets/controls",
      "_model_module_version": "1.5.0",
      "_model_name": "HTMLModel",
      "_view_count": null,
      "_view_module": "@jupyter-widgets/controls",
      "_view_module_version": "1.5.0",
      "_view_name": "HTMLView",
      "description": "",
      "description_tooltip": null,
      "layout": "IPY_MODEL_76769fffeb63428cbccff931f4ce3980",
      "placeholder": "​",
      "style": "IPY_MODEL_42a2555fab614d4da5a0719c9a9bfec8",
      "value": " 10/10 [00:00&lt;00:00, 54.25 examples/s]"
     }
    },
    "1a9d72b203bc4b059c04aa21aa2cf676": {
     "model_module": "@jupyter-widgets/controls",
     "model_module_version": "1.5.0",
     "model_name": "HTMLModel",
     "state": {
      "_dom_classes": [],
      "_model_module": "@jupyter-widgets/controls",
      "_model_module_version": "1.5.0",
      "_model_name": "HTMLModel",
      "_view_count": null,
      "_view_module": "@jupyter-widgets/controls",
      "_view_module_version": "1.5.0",
      "_view_name": "HTMLView",
      "description": "",
      "description_tooltip": null,
      "layout": "IPY_MODEL_b4d313a1cd324e74bcf3251c91d937f2",
      "placeholder": "​",
      "style": "IPY_MODEL_459140e9bd16454a8fd4d5271104606d",
      "value": "Map: 100%"
     }
    },
    "1ac333042e604a2985deb5a436fca4a4": {
     "model_module": "@jupyter-widgets/controls",
     "model_module_version": "1.5.0",
     "model_name": "DescriptionStyleModel",
     "state": {
      "_model_module": "@jupyter-widgets/controls",
      "_model_module_version": "1.5.0",
      "_model_name": "DescriptionStyleModel",
      "_view_count": null,
      "_view_module": "@jupyter-widgets/base",
      "_view_module_version": "1.2.0",
      "_view_name": "StyleView",
      "description_width": ""
     }
    },
    "1b20dccbb5e44198968fe1dcb3fb67c7": {
     "model_module": "@jupyter-widgets/base",
     "model_module_version": "1.2.0",
     "model_name": "LayoutModel",
     "state": {
      "_model_module": "@jupyter-widgets/base",
      "_model_module_version": "1.2.0",
      "_model_name": "LayoutModel",
      "_view_count": null,
      "_view_module": "@jupyter-widgets/base",
      "_view_module_version": "1.2.0",
      "_view_name": "LayoutView",
      "align_content": null,
      "align_items": null,
      "align_self": null,
      "border": null,
      "bottom": null,
      "display": null,
      "flex": null,
      "flex_flow": null,
      "grid_area": null,
      "grid_auto_columns": null,
      "grid_auto_flow": null,
      "grid_auto_rows": null,
      "grid_column": null,
      "grid_gap": null,
      "grid_row": null,
      "grid_template_areas": null,
      "grid_template_columns": null,
      "grid_template_rows": null,
      "height": null,
      "justify_content": null,
      "justify_items": null,
      "left": null,
      "margin": null,
      "max_height": null,
      "max_width": null,
      "min_height": null,
      "min_width": null,
      "object_fit": null,
      "object_position": null,
      "order": null,
      "overflow": null,
      "overflow_x": null,
      "overflow_y": null,
      "padding": null,
      "right": null,
      "top": null,
      "visibility": null,
      "width": null
     }
    },
    "206d3d21fe0349c2a755ab1788f74498": {
     "model_module": "@jupyter-widgets/base",
     "model_module_version": "1.2.0",
     "model_name": "LayoutModel",
     "state": {
      "_model_module": "@jupyter-widgets/base",
      "_model_module_version": "1.2.0",
      "_model_name": "LayoutModel",
      "_view_count": null,
      "_view_module": "@jupyter-widgets/base",
      "_view_module_version": "1.2.0",
      "_view_name": "LayoutView",
      "align_content": null,
      "align_items": null,
      "align_self": null,
      "border": null,
      "bottom": null,
      "display": null,
      "flex": null,
      "flex_flow": null,
      "grid_area": null,
      "grid_auto_columns": null,
      "grid_auto_flow": null,
      "grid_auto_rows": null,
      "grid_column": null,
      "grid_gap": null,
      "grid_row": null,
      "grid_template_areas": null,
      "grid_template_columns": null,
      "grid_template_rows": null,
      "height": null,
      "justify_content": null,
      "justify_items": null,
      "left": null,
      "margin": null,
      "max_height": null,
      "max_width": null,
      "min_height": null,
      "min_width": null,
      "object_fit": null,
      "object_position": null,
      "order": null,
      "overflow": null,
      "overflow_x": null,
      "overflow_y": null,
      "padding": null,
      "right": null,
      "top": null,
      "visibility": null,
      "width": null
     }
    },
    "23a37cb857244f2bb3df17553061c400": {
     "model_module": "@jupyter-widgets/controls",
     "model_module_version": "1.5.0",
     "model_name": "ButtonModel",
     "state": {
      "_dom_classes": [],
      "_model_module": "@jupyter-widgets/controls",
      "_model_module_version": "1.5.0",
      "_model_name": "ButtonModel",
      "_view_count": null,
      "_view_module": "@jupyter-widgets/controls",
      "_view_module_version": "1.5.0",
      "_view_name": "ButtonView",
      "button_style": "",
      "description": "Login",
      "disabled": false,
      "icon": "",
      "layout": "IPY_MODEL_5053427e882a4c6da14a6ac1b89c83a4",
      "style": "IPY_MODEL_69f118ae71ed4b22902671f733ba3b22",
      "tooltip": ""
     }
    },
    "2ac8c9ad096f412c975a15795cac3598": {
     "model_module": "@jupyter-widgets/controls",
     "model_module_version": "1.5.0",
     "model_name": "HTMLModel",
     "state": {
      "_dom_classes": [],
      "_model_module": "@jupyter-widgets/controls",
      "_model_module_version": "1.5.0",
      "_model_name": "HTMLModel",
      "_view_count": null,
      "_view_module": "@jupyter-widgets/controls",
      "_view_module_version": "1.5.0",
      "_view_name": "HTMLView",
      "description": "",
      "description_tooltip": null,
      "layout": "IPY_MODEL_59e9430bae53467e8aeb49994cdab353",
      "placeholder": "​",
      "style": "IPY_MODEL_350da390f44c4229a48c57f55e615d2a",
      "value": "Map: 100%"
     }
    },
    "2c92f69309a94af699f351de57eff424": {
     "model_module": "@jupyter-widgets/base",
     "model_module_version": "1.2.0",
     "model_name": "LayoutModel",
     "state": {
      "_model_module": "@jupyter-widgets/base",
      "_model_module_version": "1.2.0",
      "_model_name": "LayoutModel",
      "_view_count": null,
      "_view_module": "@jupyter-widgets/base",
      "_view_module_version": "1.2.0",
      "_view_name": "LayoutView",
      "align_content": null,
      "align_items": "center",
      "align_self": null,
      "border": null,
      "bottom": null,
      "display": "flex",
      "flex": null,
      "flex_flow": "column",
      "grid_area": null,
      "grid_auto_columns": null,
      "grid_auto_flow": null,
      "grid_auto_rows": null,
      "grid_column": null,
      "grid_gap": null,
      "grid_row": null,
      "grid_template_areas": null,
      "grid_template_columns": null,
      "grid_template_rows": null,
      "height": null,
      "justify_content": null,
      "justify_items": null,
      "left": null,
      "margin": null,
      "max_height": null,
      "max_width": null,
      "min_height": null,
      "min_width": null,
      "object_fit": null,
      "object_position": null,
      "order": null,
      "overflow": null,
      "overflow_x": null,
      "overflow_y": null,
      "padding": null,
      "right": null,
      "top": null,
      "visibility": null,
      "width": "50%"
     }
    },
    "2e574bb010614679bcfd60e9528dcc98": {
     "model_module": "@jupyter-widgets/controls",
     "model_module_version": "1.5.0",
     "model_name": "FloatProgressModel",
     "state": {
      "_dom_classes": [],
      "_model_module": "@jupyter-widgets/controls",
      "_model_module_version": "1.5.0",
      "_model_name": "FloatProgressModel",
      "_view_count": null,
      "_view_module": "@jupyter-widgets/controls",
      "_view_module_version": "1.5.0",
      "_view_name": "ProgressView",
      "bar_style": "success",
      "description": "",
      "description_tooltip": null,
      "layout": "IPY_MODEL_148e3c2d76924ba993c05fb7b77533bb",
      "max": 10,
      "min": 0,
      "orientation": "horizontal",
      "style": "IPY_MODEL_d76c9ade112a4c618f4737fd357e370e",
      "value": 10
     }
    },
    "350da390f44c4229a48c57f55e615d2a": {
     "model_module": "@jupyter-widgets/controls",
     "model_module_version": "1.5.0",
     "model_name": "DescriptionStyleModel",
     "state": {
      "_model_module": "@jupyter-widgets/controls",
      "_model_module_version": "1.5.0",
      "_model_name": "DescriptionStyleModel",
      "_view_count": null,
      "_view_module": "@jupyter-widgets/base",
      "_view_module_version": "1.2.0",
      "_view_name": "StyleView",
      "description_width": ""
     }
    },
    "376e8bb93b1047b19f2836de6394da5b": {
     "model_module": "@jupyter-widgets/base",
     "model_module_version": "1.2.0",
     "model_name": "LayoutModel",
     "state": {
      "_model_module": "@jupyter-widgets/base",
      "_model_module_version": "1.2.0",
      "_model_name": "LayoutModel",
      "_view_count": null,
      "_view_module": "@jupyter-widgets/base",
      "_view_module_version": "1.2.0",
      "_view_name": "LayoutView",
      "align_content": null,
      "align_items": null,
      "align_self": null,
      "border": null,
      "bottom": null,
      "display": null,
      "flex": null,
      "flex_flow": null,
      "grid_area": null,
      "grid_auto_columns": null,
      "grid_auto_flow": null,
      "grid_auto_rows": null,
      "grid_column": null,
      "grid_gap": null,
      "grid_row": null,
      "grid_template_areas": null,
      "grid_template_columns": null,
      "grid_template_rows": null,
      "height": null,
      "justify_content": null,
      "justify_items": null,
      "left": null,
      "margin": null,
      "max_height": null,
      "max_width": null,
      "min_height": null,
      "min_width": null,
      "object_fit": null,
      "object_position": null,
      "order": null,
      "overflow": null,
      "overflow_x": null,
      "overflow_y": null,
      "padding": null,
      "right": null,
      "top": null,
      "visibility": null,
      "width": null
     }
    },
    "39a503c5ecb240e2a64fa9eca8bfd333": {
     "model_module": "@jupyter-widgets/controls",
     "model_module_version": "1.5.0",
     "model_name": "ProgressStyleModel",
     "state": {
      "_model_module": "@jupyter-widgets/controls",
      "_model_module_version": "1.5.0",
      "_model_name": "ProgressStyleModel",
      "_view_count": null,
      "_view_module": "@jupyter-widgets/base",
      "_view_module_version": "1.2.0",
      "_view_name": "StyleView",
      "bar_color": null,
      "description_width": ""
     }
    },
    "42a2555fab614d4da5a0719c9a9bfec8": {
     "model_module": "@jupyter-widgets/controls",
     "model_module_version": "1.5.0",
     "model_name": "DescriptionStyleModel",
     "state": {
      "_model_module": "@jupyter-widgets/controls",
      "_model_module_version": "1.5.0",
      "_model_name": "DescriptionStyleModel",
      "_view_count": null,
      "_view_module": "@jupyter-widgets/base",
      "_view_module_version": "1.2.0",
      "_view_name": "StyleView",
      "description_width": ""
     }
    },
    "459140e9bd16454a8fd4d5271104606d": {
     "model_module": "@jupyter-widgets/controls",
     "model_module_version": "1.5.0",
     "model_name": "DescriptionStyleModel",
     "state": {
      "_model_module": "@jupyter-widgets/controls",
      "_model_module_version": "1.5.0",
      "_model_name": "DescriptionStyleModel",
      "_view_count": null,
      "_view_module": "@jupyter-widgets/base",
      "_view_module_version": "1.2.0",
      "_view_name": "StyleView",
      "description_width": ""
     }
    },
    "49a574e66e6b4348a153aa3f3ce6fab8": {
     "model_module": "@jupyter-widgets/controls",
     "model_module_version": "1.5.0",
     "model_name": "FloatProgressModel",
     "state": {
      "_dom_classes": [],
      "_model_module": "@jupyter-widgets/controls",
      "_model_module_version": "1.5.0",
      "_model_name": "FloatProgressModel",
      "_view_count": null,
      "_view_module": "@jupyter-widgets/controls",
      "_view_module_version": "1.5.0",
      "_view_name": "ProgressView",
      "bar_style": "success",
      "description": "",
      "description_tooltip": null,
      "layout": "IPY_MODEL_daf8808c980641de814b433d99c4b09e",
      "max": 40,
      "min": 0,
      "orientation": "horizontal",
      "style": "IPY_MODEL_39a503c5ecb240e2a64fa9eca8bfd333",
      "value": 40
     }
    },
    "5053427e882a4c6da14a6ac1b89c83a4": {
     "model_module": "@jupyter-widgets/base",
     "model_module_version": "1.2.0",
     "model_name": "LayoutModel",
     "state": {
      "_model_module": "@jupyter-widgets/base",
      "_model_module_version": "1.2.0",
      "_model_name": "LayoutModel",
      "_view_count": null,
      "_view_module": "@jupyter-widgets/base",
      "_view_module_version": "1.2.0",
      "_view_name": "LayoutView",
      "align_content": null,
      "align_items": null,
      "align_self": null,
      "border": null,
      "bottom": null,
      "display": null,
      "flex": null,
      "flex_flow": null,
      "grid_area": null,
      "grid_auto_columns": null,
      "grid_auto_flow": null,
      "grid_auto_rows": null,
      "grid_column": null,
      "grid_gap": null,
      "grid_row": null,
      "grid_template_areas": null,
      "grid_template_columns": null,
      "grid_template_rows": null,
      "height": null,
      "justify_content": null,
      "justify_items": null,
      "left": null,
      "margin": null,
      "max_height": null,
      "max_width": null,
      "min_height": null,
      "min_width": null,
      "object_fit": null,
      "object_position": null,
      "order": null,
      "overflow": null,
      "overflow_x": null,
      "overflow_y": null,
      "padding": null,
      "right": null,
      "top": null,
      "visibility": null,
      "width": null
     }
    },
    "59e9430bae53467e8aeb49994cdab353": {
     "model_module": "@jupyter-widgets/base",
     "model_module_version": "1.2.0",
     "model_name": "LayoutModel",
     "state": {
      "_model_module": "@jupyter-widgets/base",
      "_model_module_version": "1.2.0",
      "_model_name": "LayoutModel",
      "_view_count": null,
      "_view_module": "@jupyter-widgets/base",
      "_view_module_version": "1.2.0",
      "_view_name": "LayoutView",
      "align_content": null,
      "align_items": null,
      "align_self": null,
      "border": null,
      "bottom": null,
      "display": null,
      "flex": null,
      "flex_flow": null,
      "grid_area": null,
      "grid_auto_columns": null,
      "grid_auto_flow": null,
      "grid_auto_rows": null,
      "grid_column": null,
      "grid_gap": null,
      "grid_row": null,
      "grid_template_areas": null,
      "grid_template_columns": null,
      "grid_template_rows": null,
      "height": null,
      "justify_content": null,
      "justify_items": null,
      "left": null,
      "margin": null,
      "max_height": null,
      "max_width": null,
      "min_height": null,
      "min_width": null,
      "object_fit": null,
      "object_position": null,
      "order": null,
      "overflow": null,
      "overflow_x": null,
      "overflow_y": null,
      "padding": null,
      "right": null,
      "top": null,
      "visibility": null,
      "width": null
     }
    },
    "6240bf8fc1ab4c53aeffd26252c7d2d8": {
     "model_module": "@jupyter-widgets/controls",
     "model_module_version": "1.5.0",
     "model_name": "HTMLModel",
     "state": {
      "_dom_classes": [],
      "_model_module": "@jupyter-widgets/controls",
      "_model_module_version": "1.5.0",
      "_model_name": "HTMLModel",
      "_view_count": null,
      "_view_module": "@jupyter-widgets/controls",
      "_view_module_version": "1.5.0",
      "_view_name": "HTMLView",
      "description": "",
      "description_tooltip": null,
      "layout": "IPY_MODEL_fbce8212166a45c4baf106a655ca6320",
      "placeholder": "​",
      "style": "IPY_MODEL_defadaa466c7450f94b8bbfcc578c09d",
      "value": "\n<b>Pro Tip:</b> If you don't already have one, you can create a dedicated\n'notebooks' token with 'write' access, that you can then easily reuse for all\nnotebooks. </center>"
     }
    },
    "69f118ae71ed4b22902671f733ba3b22": {
     "model_module": "@jupyter-widgets/controls",
     "model_module_version": "1.5.0",
     "model_name": "ButtonStyleModel",
     "state": {
      "_model_module": "@jupyter-widgets/controls",
      "_model_module_version": "1.5.0",
      "_model_name": "ButtonStyleModel",
      "_view_count": null,
      "_view_module": "@jupyter-widgets/base",
      "_view_module_version": "1.2.0",
      "_view_name": "StyleView",
      "button_color": null,
      "font_weight": ""
     }
    },
    "76769fffeb63428cbccff931f4ce3980": {
     "model_module": "@jupyter-widgets/base",
     "model_module_version": "1.2.0",
     "model_name": "LayoutModel",
     "state": {
      "_model_module": "@jupyter-widgets/base",
      "_model_module_version": "1.2.0",
      "_model_name": "LayoutModel",
      "_view_count": null,
      "_view_module": "@jupyter-widgets/base",
      "_view_module_version": "1.2.0",
      "_view_name": "LayoutView",
      "align_content": null,
      "align_items": null,
      "align_self": null,
      "border": null,
      "bottom": null,
      "display": null,
      "flex": null,
      "flex_flow": null,
      "grid_area": null,
      "grid_auto_columns": null,
      "grid_auto_flow": null,
      "grid_auto_rows": null,
      "grid_column": null,
      "grid_gap": null,
      "grid_row": null,
      "grid_template_areas": null,
      "grid_template_columns": null,
      "grid_template_rows": null,
      "height": null,
      "justify_content": null,
      "justify_items": null,
      "left": null,
      "margin": null,
      "max_height": null,
      "max_width": null,
      "min_height": null,
      "min_width": null,
      "object_fit": null,
      "object_position": null,
      "order": null,
      "overflow": null,
      "overflow_x": null,
      "overflow_y": null,
      "padding": null,
      "right": null,
      "top": null,
      "visibility": null,
      "width": null
     }
    },
    "9b0882cde14b49099be90a6b61d62893": {
     "model_module": "@jupyter-widgets/controls",
     "model_module_version": "1.5.0",
     "model_name": "HTMLModel",
     "state": {
      "_dom_classes": [],
      "_model_module": "@jupyter-widgets/controls",
      "_model_module_version": "1.5.0",
      "_model_name": "HTMLModel",
      "_view_count": null,
      "_view_module": "@jupyter-widgets/controls",
      "_view_module_version": "1.5.0",
      "_view_name": "HTMLView",
      "description": "",
      "description_tooltip": null,
      "layout": "IPY_MODEL_fe7dd2175a664ddba9c6c0fa28330d05",
      "placeholder": "​",
      "style": "IPY_MODEL_1ac333042e604a2985deb5a436fca4a4",
      "value": "<center> <img\nsrc=https://huggingface.co/front/assets/huggingface_logo-noborder.svg\nalt='Hugging Face'> <br> Copy a token from <a\nhref=\"https://huggingface.co/settings/tokens\" target=\"_blank\">your Hugging Face\ntokens page</a> and paste it below. <br> Immediately click login after copying\nyour token or it might be stored in plain text in this notebook file. </center>"
     }
    },
    "a0c9e0d3bef04ab39ebb10b26f9c51b8": {
     "model_module": "@jupyter-widgets/base",
     "model_module_version": "1.2.0",
     "model_name": "LayoutModel",
     "state": {
      "_model_module": "@jupyter-widgets/base",
      "_model_module_version": "1.2.0",
      "_model_name": "LayoutModel",
      "_view_count": null,
      "_view_module": "@jupyter-widgets/base",
      "_view_module_version": "1.2.0",
      "_view_name": "LayoutView",
      "align_content": null,
      "align_items": null,
      "align_self": null,
      "border": null,
      "bottom": null,
      "display": null,
      "flex": null,
      "flex_flow": null,
      "grid_area": null,
      "grid_auto_columns": null,
      "grid_auto_flow": null,
      "grid_auto_rows": null,
      "grid_column": null,
      "grid_gap": null,
      "grid_row": null,
      "grid_template_areas": null,
      "grid_template_columns": null,
      "grid_template_rows": null,
      "height": null,
      "justify_content": null,
      "justify_items": null,
      "left": null,
      "margin": null,
      "max_height": null,
      "max_width": null,
      "min_height": null,
      "min_width": null,
      "object_fit": null,
      "object_position": null,
      "order": null,
      "overflow": null,
      "overflow_x": null,
      "overflow_y": null,
      "padding": null,
      "right": null,
      "top": null,
      "visibility": null,
      "width": null
     }
    },
    "a60bf489a5e44f83a55a97c4fca06876": {
     "model_module": "@jupyter-widgets/controls",
     "model_module_version": "1.5.0",
     "model_name": "CheckboxModel",
     "state": {
      "_dom_classes": [],
      "_model_module": "@jupyter-widgets/controls",
      "_model_module_version": "1.5.0",
      "_model_name": "CheckboxModel",
      "_view_count": null,
      "_view_module": "@jupyter-widgets/controls",
      "_view_module_version": "1.5.0",
      "_view_name": "CheckboxView",
      "description": "Add token as git credential?",
      "description_tooltip": null,
      "disabled": false,
      "indent": true,
      "layout": "IPY_MODEL_206d3d21fe0349c2a755ab1788f74498",
      "style": "IPY_MODEL_ecceee8158184f34b596b717bf2abce6",
      "value": true
     }
    },
    "a8251575992a46cb8be4dc6ba64c1e8f": {
     "model_module": "@jupyter-widgets/base",
     "model_module_version": "1.2.0",
     "model_name": "LayoutModel",
     "state": {
      "_model_module": "@jupyter-widgets/base",
      "_model_module_version": "1.2.0",
      "_model_name": "LayoutModel",
      "_view_count": null,
      "_view_module": "@jupyter-widgets/base",
      "_view_module_version": "1.2.0",
      "_view_name": "LayoutView",
      "align_content": null,
      "align_items": null,
      "align_self": null,
      "border": null,
      "bottom": null,
      "display": null,
      "flex": null,
      "flex_flow": null,
      "grid_area": null,
      "grid_auto_columns": null,
      "grid_auto_flow": null,
      "grid_auto_rows": null,
      "grid_column": null,
      "grid_gap": null,
      "grid_row": null,
      "grid_template_areas": null,
      "grid_template_columns": null,
      "grid_template_rows": null,
      "height": null,
      "justify_content": null,
      "justify_items": null,
      "left": null,
      "margin": null,
      "max_height": null,
      "max_width": null,
      "min_height": null,
      "min_width": null,
      "object_fit": null,
      "object_position": null,
      "order": null,
      "overflow": null,
      "overflow_x": null,
      "overflow_y": null,
      "padding": null,
      "right": null,
      "top": null,
      "visibility": null,
      "width": null
     }
    },
    "add8952c57a04ff99220402e0a2c4f98": {
     "model_module": "@jupyter-widgets/controls",
     "model_module_version": "1.5.0",
     "model_name": "HBoxModel",
     "state": {
      "_dom_classes": [],
      "_model_module": "@jupyter-widgets/controls",
      "_model_module_version": "1.5.0",
      "_model_name": "HBoxModel",
      "_view_count": null,
      "_view_module": "@jupyter-widgets/controls",
      "_view_module_version": "1.5.0",
      "_view_name": "HBoxView",
      "box_style": "",
      "children": [
       "IPY_MODEL_1a9d72b203bc4b059c04aa21aa2cf676",
       "IPY_MODEL_2e574bb010614679bcfd60e9528dcc98",
       "IPY_MODEL_199fa3eb33294a3389bcf98b183f0cb6"
      ],
      "layout": "IPY_MODEL_a0c9e0d3bef04ab39ebb10b26f9c51b8"
     }
    },
    "ae8803c1eb8b4c57b40664b3451fe095": {
     "model_module": "@jupyter-widgets/controls",
     "model_module_version": "1.5.0",
     "model_name": "DescriptionStyleModel",
     "state": {
      "_model_module": "@jupyter-widgets/controls",
      "_model_module_version": "1.5.0",
      "_model_name": "DescriptionStyleModel",
      "_view_count": null,
      "_view_module": "@jupyter-widgets/base",
      "_view_module_version": "1.2.0",
      "_view_name": "StyleView",
      "description_width": ""
     }
    },
    "b4d313a1cd324e74bcf3251c91d937f2": {
     "model_module": "@jupyter-widgets/base",
     "model_module_version": "1.2.0",
     "model_name": "LayoutModel",
     "state": {
      "_model_module": "@jupyter-widgets/base",
      "_model_module_version": "1.2.0",
      "_model_name": "LayoutModel",
      "_view_count": null,
      "_view_module": "@jupyter-widgets/base",
      "_view_module_version": "1.2.0",
      "_view_name": "LayoutView",
      "align_content": null,
      "align_items": null,
      "align_self": null,
      "border": null,
      "bottom": null,
      "display": null,
      "flex": null,
      "flex_flow": null,
      "grid_area": null,
      "grid_auto_columns": null,
      "grid_auto_flow": null,
      "grid_auto_rows": null,
      "grid_column": null,
      "grid_gap": null,
      "grid_row": null,
      "grid_template_areas": null,
      "grid_template_columns": null,
      "grid_template_rows": null,
      "height": null,
      "justify_content": null,
      "justify_items": null,
      "left": null,
      "margin": null,
      "max_height": null,
      "max_width": null,
      "min_height": null,
      "min_width": null,
      "object_fit": null,
      "object_position": null,
      "order": null,
      "overflow": null,
      "overflow_x": null,
      "overflow_y": null,
      "padding": null,
      "right": null,
      "top": null,
      "visibility": null,
      "width": null
     }
    },
    "d372213c10aa46baa27e00778958fc7e": {
     "model_module": "@jupyter-widgets/controls",
     "model_module_version": "1.5.0",
     "model_name": "HTMLModel",
     "state": {
      "_dom_classes": [],
      "_model_module": "@jupyter-widgets/controls",
      "_model_module_version": "1.5.0",
      "_model_name": "HTMLModel",
      "_view_count": null,
      "_view_module": "@jupyter-widgets/controls",
      "_view_module_version": "1.5.0",
      "_view_name": "HTMLView",
      "description": "",
      "description_tooltip": null,
      "layout": "IPY_MODEL_1b20dccbb5e44198968fe1dcb3fb67c7",
      "placeholder": "​",
      "style": "IPY_MODEL_ae8803c1eb8b4c57b40664b3451fe095",
      "value": " 40/40 [00:00&lt;00:00, 58.79 examples/s]"
     }
    },
    "d76c9ade112a4c618f4737fd357e370e": {
     "model_module": "@jupyter-widgets/controls",
     "model_module_version": "1.5.0",
     "model_name": "ProgressStyleModel",
     "state": {
      "_model_module": "@jupyter-widgets/controls",
      "_model_module_version": "1.5.0",
      "_model_name": "ProgressStyleModel",
      "_view_count": null,
      "_view_module": "@jupyter-widgets/base",
      "_view_module_version": "1.2.0",
      "_view_name": "StyleView",
      "bar_color": null,
      "description_width": ""
     }
    },
    "daf8808c980641de814b433d99c4b09e": {
     "model_module": "@jupyter-widgets/base",
     "model_module_version": "1.2.0",
     "model_name": "LayoutModel",
     "state": {
      "_model_module": "@jupyter-widgets/base",
      "_model_module_version": "1.2.0",
      "_model_name": "LayoutModel",
      "_view_count": null,
      "_view_module": "@jupyter-widgets/base",
      "_view_module_version": "1.2.0",
      "_view_name": "LayoutView",
      "align_content": null,
      "align_items": null,
      "align_self": null,
      "border": null,
      "bottom": null,
      "display": null,
      "flex": null,
      "flex_flow": null,
      "grid_area": null,
      "grid_auto_columns": null,
      "grid_auto_flow": null,
      "grid_auto_rows": null,
      "grid_column": null,
      "grid_gap": null,
      "grid_row": null,
      "grid_template_areas": null,
      "grid_template_columns": null,
      "grid_template_rows": null,
      "height": null,
      "justify_content": null,
      "justify_items": null,
      "left": null,
      "margin": null,
      "max_height": null,
      "max_width": null,
      "min_height": null,
      "min_width": null,
      "object_fit": null,
      "object_position": null,
      "order": null,
      "overflow": null,
      "overflow_x": null,
      "overflow_y": null,
      "padding": null,
      "right": null,
      "top": null,
      "visibility": null,
      "width": null
     }
    },
    "defadaa466c7450f94b8bbfcc578c09d": {
     "model_module": "@jupyter-widgets/controls",
     "model_module_version": "1.5.0",
     "model_name": "DescriptionStyleModel",
     "state": {
      "_model_module": "@jupyter-widgets/controls",
      "_model_module_version": "1.5.0",
      "_model_name": "DescriptionStyleModel",
      "_view_count": null,
      "_view_module": "@jupyter-widgets/base",
      "_view_module_version": "1.2.0",
      "_view_name": "StyleView",
      "description_width": ""
     }
    },
    "e69f9ae9d15440769b51322563e0c910": {
     "model_module": "@jupyter-widgets/controls",
     "model_module_version": "1.5.0",
     "model_name": "DescriptionStyleModel",
     "state": {
      "_model_module": "@jupyter-widgets/controls",
      "_model_module_version": "1.5.0",
      "_model_name": "DescriptionStyleModel",
      "_view_count": null,
      "_view_module": "@jupyter-widgets/base",
      "_view_module_version": "1.2.0",
      "_view_name": "StyleView",
      "description_width": ""
     }
    },
    "ecceee8158184f34b596b717bf2abce6": {
     "model_module": "@jupyter-widgets/controls",
     "model_module_version": "1.5.0",
     "model_name": "DescriptionStyleModel",
     "state": {
      "_model_module": "@jupyter-widgets/controls",
      "_model_module_version": "1.5.0",
      "_model_name": "DescriptionStyleModel",
      "_view_count": null,
      "_view_module": "@jupyter-widgets/base",
      "_view_module_version": "1.2.0",
      "_view_name": "StyleView",
      "description_width": ""
     }
    },
    "f67c078c916e40d58cd43dcb7a39a592": {
     "model_module": "@jupyter-widgets/controls",
     "model_module_version": "1.5.0",
     "model_name": "PasswordModel",
     "state": {
      "_dom_classes": [],
      "_model_module": "@jupyter-widgets/controls",
      "_model_module_version": "1.5.0",
      "_model_name": "PasswordModel",
      "_view_count": null,
      "_view_module": "@jupyter-widgets/controls",
      "_view_module_version": "1.5.0",
      "_view_name": "PasswordView",
      "continuous_update": true,
      "description": "Token:",
      "description_tooltip": null,
      "disabled": false,
      "layout": "IPY_MODEL_376e8bb93b1047b19f2836de6394da5b",
      "placeholder": "​",
      "style": "IPY_MODEL_e69f9ae9d15440769b51322563e0c910",
      "value": ""
     }
    },
    "fbce8212166a45c4baf106a655ca6320": {
     "model_module": "@jupyter-widgets/base",
     "model_module_version": "1.2.0",
     "model_name": "LayoutModel",
     "state": {
      "_model_module": "@jupyter-widgets/base",
      "_model_module_version": "1.2.0",
      "_model_name": "LayoutModel",
      "_view_count": null,
      "_view_module": "@jupyter-widgets/base",
      "_view_module_version": "1.2.0",
      "_view_name": "LayoutView",
      "align_content": null,
      "align_items": null,
      "align_self": null,
      "border": null,
      "bottom": null,
      "display": null,
      "flex": null,
      "flex_flow": null,
      "grid_area": null,
      "grid_auto_columns": null,
      "grid_auto_flow": null,
      "grid_auto_rows": null,
      "grid_column": null,
      "grid_gap": null,
      "grid_row": null,
      "grid_template_areas": null,
      "grid_template_columns": null,
      "grid_template_rows": null,
      "height": null,
      "justify_content": null,
      "justify_items": null,
      "left": null,
      "margin": null,
      "max_height": null,
      "max_width": null,
      "min_height": null,
      "min_width": null,
      "object_fit": null,
      "object_position": null,
      "order": null,
      "overflow": null,
      "overflow_x": null,
      "overflow_y": null,
      "padding": null,
      "right": null,
      "top": null,
      "visibility": null,
      "width": null
     }
    },
    "fe7dd2175a664ddba9c6c0fa28330d05": {
     "model_module": "@jupyter-widgets/base",
     "model_module_version": "1.2.0",
     "model_name": "LayoutModel",
     "state": {
      "_model_module": "@jupyter-widgets/base",
      "_model_module_version": "1.2.0",
      "_model_name": "LayoutModel",
      "_view_count": null,
      "_view_module": "@jupyter-widgets/base",
      "_view_module_version": "1.2.0",
      "_view_name": "LayoutView",
      "align_content": null,
      "align_items": null,
      "align_self": null,
      "border": null,
      "bottom": null,
      "display": null,
      "flex": null,
      "flex_flow": null,
      "grid_area": null,
      "grid_auto_columns": null,
      "grid_auto_flow": null,
      "grid_auto_rows": null,
      "grid_column": null,
      "grid_gap": null,
      "grid_row": null,
      "grid_template_areas": null,
      "grid_template_columns": null,
      "grid_template_rows": null,
      "height": null,
      "justify_content": null,
      "justify_items": null,
      "left": null,
      "margin": null,
      "max_height": null,
      "max_width": null,
      "min_height": null,
      "min_width": null,
      "object_fit": null,
      "object_position": null,
      "order": null,
      "overflow": null,
      "overflow_x": null,
      "overflow_y": null,
      "padding": null,
      "right": null,
      "top": null,
      "visibility": null,
      "width": null
     }
    }
   }
  }
 },
 "nbformat": 4,
 "nbformat_minor": 0
}
